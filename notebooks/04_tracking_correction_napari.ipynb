{
 "cells": [
  {
   "cell_type": "code",
   "execution_count": 1,
   "id": "f49352f4",
   "metadata": {},
   "outputs": [],
   "source": [
    "%load_ext autoreload\n",
    "%autoreload 2\n",
    "\n",
    "import os\n",
    "import sys\n",
    "import warnings\n",
    "import pandas as pd\n",
    "import numpy as np\n",
    "from tifffile import imread\n",
    "from nd2reader import ND2Reader\n",
    "from scipy.ndimage import zoom\n",
    "\n",
    "import napari\n",
    "from napari import Viewer\n",
    "from napari import notification_manager \n",
    "from magicgui.widgets import Container,Label,Dropdown\n",
    "from magicgui import magicgui\n",
    "\n",
    "sys.path.append('../libraries')\n",
    "import general_functions as gen\n",
    "import napari_build_viewer as bv_f\n",
    "import input_functions as inp_f"
   ]
  },
  {
   "cell_type": "code",
   "execution_count": null,
   "id": "af34d0ec",
   "metadata": {},
   "outputs": [],
   "source": [
    "warnings.filterwarnings('ignore')"
   ]
  },
  {
   "cell_type": "code",
   "execution_count": 2,
   "id": "40d35e83",
   "metadata": {},
   "outputs": [],
   "source": [
    "info_file_path = r'Z:\\COOK_LAB\\MJ\\Movie_10\\10\\code\\scripts\\20231118_10_rawinfo.txt'"
   ]
  },
  {
   "cell_type": "markdown",
   "id": "e43bd461",
   "metadata": {},
   "source": [
    "## Define experiment"
   ]
  },
  {
   "cell_type": "code",
   "execution_count": 3,
   "id": "5123d1f1",
   "metadata": {},
   "outputs": [],
   "source": [
    "# read the file\n",
    "info_file = open(info_file_path, 'r')\n",
    "info_lines = info_file.readlines()\n",
    "info_file.close()\n",
    "\n",
    "# read info about the data frame\n",
    "exp_dir,df_name = inp_f.read_df_info(info_lines)\n",
    "\n",
    "# read in the data frame\n",
    "df = pd.read_pickle(os.path.join(exp_dir,'df',df_name))\n",
    "\n",
    "# get info about the channels\n",
    "channel_list = inp_f.read_channels(info_lines,check=True,df=df,exp_dir=exp_dir)\n",
    "\n",
    "# get info about the tags (for annotating tracks)\n",
    "tag_list = inp_f.read_tags(info_lines,df=df)\n",
    "\n",
    "# get info about the tags (for annotating tracks)\n",
    "flag_list = inp_f.read_flags(info_lines,df=df)\n",
    "\n",
    "# get info about what will be plotted\n",
    "graph_list = inp_f.read_graphs(info_lines,df,channel_list)\n",
    "\n",
    "# get info about the general settings\n",
    "time_threshold,small_im_size,label_contour,gen_track_columns = inp_f.read_settings(info_lines)\n",
    "\n",
    "# get info about the caluclations \n",
    "object_properties = inp_f.read_properties(info_lines)\n",
    "# consider pushing properties_ring too"
   ]
  },
  {
   "cell_type": "markdown",
   "id": "be7b999a",
   "metadata": {},
   "source": [
    "## Extract info from the data frame"
   ]
  },
  {
   "cell_type": "code",
   "execution_count": 4,
   "id": "b18a3561",
   "metadata": {},
   "outputs": [],
   "source": [
    "# sort \n",
    "df = df.sort_values(by=['track_id','t'])"
   ]
  },
  {
   "cell_type": "code",
   "execution_count": null,
   "id": "8717fc84-d726-4377-9025-a40bed8f6ae8",
   "metadata": {},
   "outputs": [],
   "source": [
    "'''\n",
    "# Performs downscaling on the dataframe. This is done in two parts, the mathematical reduction of distance based units\n",
    "# and the downsampling of the 'image' boolean array by pooling. \n",
    "# Two variables must be defined, one for pooling and the other for mathematical division. They must align.\n",
    "#i.e. if you are reducing by a factor of 2, your pooling factor must be 0.5 . If reducing by a factor of 4, pooling factor must be 0.25\n",
    "\n",
    "#Downscale the 'image' column boolean array by this number\n",
    "boolean_factor = 1\n",
    "\n",
    "#Divide cols_to_reduce by this number. Set to 1 if you do not want to perform scaling\n",
    "scaling_factor = 1\n",
    "\n",
    "#Define which columns in the dataframe must be divided by the downscale_factor\n",
    "cols_to_scale = ['area', 'centroid-0', 'centroid-1', 'major_axis_length', 'minor_axis_length', 'bbox-0', 'bbox-1', 'bbox-2', 'bbox-3',\n",
    "                  'centroid-0_ring', 'centroid-1_ring', 'size_x', 'size_y', 'x', 'y']\n",
    "\n",
    "\n",
    "# Check if 'downscaled' column exists\n",
    "if 'downscaled' not in df.columns:\n",
    "    df['downscaled'] = 0\n",
    "\n",
    "# Check downscaled coloumn for consistency\n",
    "unique_values = df['downscaled'].unique()\n",
    "\n",
    "if scaling_factor != 1:\n",
    "\n",
    "    # downscaled coloumn passes consistency check,, proceed to actual downscale check\n",
    "    if len(unique_values) == 1:\n",
    "        val = unique_values[0]\n",
    "        \n",
    "        # Check the value in the 'downscaled' column\n",
    "        if val == 0:\n",
    "            # Function to downsample a boolean image by a given factor\n",
    "            def downsample_image(image, factor=boolean_factor):\n",
    "                \"\"\"Downsample a boolean image by a given factor.\"\"\"\n",
    "                return zoom(image, factor, order=1) > 0\n",
    "            \n",
    "            df[cols_to_scale] = df[cols_to_scale] / scaling_factor\n",
    "            \n",
    "            # Downscale the images in the 'image' column\n",
    "            df['image'] = df['image'].apply(downsample_image)\n",
    "            \n",
    "            # Set the 'downscaled' column to 1, indicating that the dataframe has been downscaled\n",
    "            df['downscaled'] = 1\n",
    "            print(f'Dataframe downscaled by a factor of {downscale_factor}')\n",
    "        elif val == 1:\n",
    "            print(\"The dataframe has already been downscaled. This operation should not be run multiple times. Downscaling not performed\")\n",
    "        elif val == 2:\n",
    "            print(\"The dataframe has already been downscaled and upscaled. This operation should not be run multiple times. Downscaling not peformed\")\n",
    "    else:\n",
    "        print(\"The 'downscaled' column has multiple unique values. Please ensure its consistency.\")\n",
    "else:\n",
    "    print('Scaling_factor set to 1, no scaling requested. Scaling not performed')"
   ]
  },
  {
   "cell_type": "markdown",
   "id": "5f421af9",
   "metadata": {},
   "source": [
    "Expected execution time < 1min."
   ]
  },
  {
   "cell_type": "code",
   "execution_count": 5,
   "id": "54c16abc",
   "metadata": {},
   "outputs": [
    {
     "name": "stdout",
     "output_type": "stream",
     "text": [
      "CPU times: total: 5.02 s\n",
      "Wall time: 5.02 s\n"
     ]
    }
   ],
   "source": [
    "%%time\n",
    "\n",
    "# generate labels layer\n",
    "#This is currently using a modified version of labels_from_df that facilitates scale reduction by padding the image column with zeros to ensure alignment\n",
    "labels = gen.labels_from_df(df)"
   ]
  },
  {
   "cell_type": "code",
   "execution_count": 6,
   "id": "b2924595",
   "metadata": {},
   "outputs": [],
   "source": [
    "# generate data for the tracking layer\n",
    "data,properties,graph = gen.trackData_from_df(df,col_list = gen_track_columns)"
   ]
  },
  {
   "cell_type": "code",
   "execution_count": 7,
   "id": "8c174de8",
   "metadata": {},
   "outputs": [],
   "source": [
    "# create data for tagging\n",
    "tag_data = gen.tags_from_df(df,tag_list)"
   ]
  },
  {
   "cell_type": "code",
   "execution_count": 8,
   "id": "5d4f4c63",
   "metadata": {},
   "outputs": [
    {
     "data": {
      "text/plain": [
       "{}"
      ]
     },
     "execution_count": 8,
     "metadata": {},
     "output_type": "execute_result"
    }
   ],
   "source": [
    "graph"
   ]
  },
  {
   "cell_type": "code",
   "execution_count": 9,
   "id": "80e16c87",
   "metadata": {},
   "outputs": [],
   "source": [
    "df.to_pickle(os.path.join(exp_dir,'df',df_name))"
   ]
  },
  {
   "cell_type": "markdown",
   "id": "c450ffba",
   "metadata": {},
   "source": [
    "## Read in images"
   ]
  },
  {
   "cell_type": "markdown",
   "id": "a34e96b9",
   "metadata": {},
   "source": [
    "Expected execution time ~ 10s/1GB"
   ]
  },
  {
   "cell_type": "code",
   "execution_count": 10,
   "id": "51b68f1e",
   "metadata": {},
   "outputs": [
    {
     "name": "stdout",
     "output_type": "stream",
     "text": [
      "CPU times: total: 4.08 s\n",
      "Wall time: 10min 7s\n"
     ]
    }
   ],
   "source": [
    "%%time\n",
    "\n",
    "for ind,ch in enumerate(channel_list):\n",
    "    \n",
    "    im_path = os.path.join(exp_dir,'data',ch['file_name'])\n",
    "    c = ch['channel_in_file']\n",
    "    \n",
    "    channel_list[ind]['image'] = inp_f.open_movie(im_path,c)"
   ]
  },
  {
   "cell_type": "markdown",
   "id": "f8077a1f",
   "metadata": {},
   "source": [
    "## Create a viewer"
   ]
  },
  {
   "cell_type": "code",
   "execution_count": 11,
   "id": "8887aa3d",
   "metadata": {},
   "outputs": [],
   "source": [
    "viewer = napari.Viewer()\n",
    "\n",
    "# add a helper layer\n",
    "layer_mod = viewer.add_points([],name='Helper Points',face_color='red',ndim=3)\n",
    "\n",
    "# add tracks annotations\n",
    "for tag,tag_points in zip(tag_list,tag_data): \n",
    "    \n",
    "    viewer.add_points(tag_points,name=tag['tag_name'],face_color=tag['tag_color'],opacity = 1,ndim = 3)\n",
    "\n",
    "# add image layers\n",
    "\n",
    "for ind,ch in reversed(list(enumerate(channel_list))):\n",
    "    \n",
    "    viewer.add_image(ch['image'],name=ch['channel_name'],colormap=ch['color'],blending='additive')\n",
    "\n",
    "# add a tracking layer\n",
    "track_layer=viewer.add_tracks(data, properties=properties,graph={},name='Tracking',color_by='track_id')\n",
    "track_layer.display_id=True\n",
    "    \n",
    "# add a labels layer\n",
    "labels_layer = viewer.add_labels(labels,name='Labels',opacity = 0.4)"
   ]
  },
  {
   "cell_type": "code",
   "execution_count": 12,
   "id": "87da1d8c",
   "metadata": {},
   "outputs": [],
   "source": [
    "# create a plot widget\n",
    "t_max = viewer.dims.range[0][1]\n",
    "plot_widget = bv_f.build_lineage_widget(t_max)\n",
    "\n",
    "# create a list of promising tracks\n",
    "promise_list = [int(x) for x in set(df.loc[df.promise==True,'track_id'])]\n",
    "promise_list.append(0)\n",
    "promise_list.sort()"
   ]
  },
  {
   "cell_type": "markdown",
   "id": "45397f71",
   "metadata": {},
   "source": [
    "## Build viewer functionality"
   ]
  },
  {
   "cell_type": "code",
   "execution_count": 13,
   "id": "b11ffa1a",
   "metadata": {},
   "outputs": [],
   "source": [
    "# inject global variables to the module\n",
    "\n",
    "global_variables = ['viewer','plot_widget',\n",
    "                    'exp_dir','df_name','df',\n",
    "                    'channel_list','graph_list',\n",
    "                    'object_properties','promise_list',\n",
    "                    'time_threshold','flag_list',\n",
    "                    'tag_list','gen_track_columns',\n",
    "                    'small_im_size',\n",
    "                    'label_contour'\n",
    "                   ]\n",
    "\n",
    "for var in global_variables:\n",
    "    \n",
    "    exec(f'bv_f.{var} = {var}')"
   ]
  },
  {
   "cell_type": "code",
   "execution_count": 14,
   "id": "d4a876af",
   "metadata": {},
   "outputs": [
    {
     "name": "stderr",
     "output_type": "stream",
     "text": [
      "C:\\Users\\gases\\Desktop\\tracking_pipeline-master\\notebooks\\general_functions.py:45: FutureWarning: Calling int on a single element Series is deprecated and will raise a TypeError in the future. Use int(ser.iloc[0]) instead\n",
      "  x = int(cellData['centroid-0'])\n",
      "C:\\Users\\gases\\Desktop\\tracking_pipeline-master\\notebooks\\general_functions.py:46: FutureWarning: Calling int on a single element Series is deprecated and will raise a TypeError in the future. Use int(ser.iloc[0]) instead\n",
      "  y = int(cellData['centroid-1'])\n"
     ]
    }
   ],
   "source": [
    "######################################################################\n",
    "# add saving button\n",
    "save_data = magicgui(bv_f.save_data, call_button='Save Data')\n",
    "viewer.window.add_dock_widget(save_data,area='right')\n",
    "\n",
    "######################################################################\n",
    "# add right-click to make a label active\n",
    "labels_layer.mouse_drag_callbacks.append(bv_f.select_label)\n",
    "\n",
    "######################################################################\n",
    "# add label modifications\n",
    "\n",
    "mod_label = magicgui(bv_f.mod_label,call_button='Modify Label')\n",
    "viewer.window.add_dock_widget(mod_label,area='right')\n",
    "\n",
    "mod_key = viewer.bind_key('Shift-Enter',overwrite=True,func=bv_f.mod_label)\n",
    "\n",
    "######################################################################\n",
    "# add track modifying buttons\n",
    "\n",
    "cut_track = magicgui(bv_f.cut_track, call_button='Cut Track')\n",
    "merge_track = magicgui(bv_f.merge_track, call_button='Merge Track')\n",
    "connect_track = magicgui(bv_f.connect_track, call_button='Connect Track')\n",
    "\n",
    "container_tracks = Container(widgets=[cut_track,merge_track,connect_track],labels=False)\n",
    "viewer.window.add_dock_widget(container_tracks,area='right') \n",
    "\n",
    "######################################################################\n",
    "# add right-click toggle track tags\n",
    "for tag_name in [x['tag_name'] for x in tag_list]:\n",
    "    \n",
    "    viewer.layers[tag_name].mouse_drag_callbacks.append(bv_f.toggle_track)\n",
    "\n",
    "######################################################################\n",
    "# add navigation in the track\n",
    "begin_button= magicgui(bv_f.go_to_track_beginning,call_button=\"<\")\n",
    "end_button= magicgui(bv_f.go_to_track_end,call_button=\">\")\n",
    "center_button = magicgui(bv_f.center_the_cell,call_button=\"<>\")\n",
    "\n",
    "c = Container(widgets=[begin_button,center_button, end_button],layout='horizontal',labels=False)\n",
    "viewer.window.add_dock_widget(c,area='right',name='Navigate Track')\n",
    "    \n",
    "######################################################################\n",
    "# add small stack display button\n",
    "\n",
    "stack_button = magicgui(bv_f.show_stack, call_button='Show Stack')\n",
    "viewer.window.add_dock_widget(stack_button,area='right')\n",
    "\n",
    "#####################################################################\n",
    "# button for next available track\n",
    "next_label_button = magicgui(bv_f.next_label, call_button='Next Label')\n",
    "viewer.window.add_dock_widget(next_label_button,area='left',name='Next Available Label')\n",
    "\n",
    "######################################################################\n",
    "# add navigation over promising tracks\n",
    "\n",
    "widget_label_promise = Label(value=f'Number of promising tracks: {(len(promise_list)-1)}', label=\"Promising tracks:\")\n",
    "widget_list_promise = Dropdown(choices=promise_list, value = 0)\n",
    "bv_f.select_promising_track = widget_list_promise.changed.connect(bv_f.select_promising_track)\n",
    "\n",
    "prom_c = Container(widgets=[widget_label_promise,widget_list_promise],layout='horizontal',labels=False)\n",
    "\n",
    "viewer.window.add_dock_widget(prom_c,area='left',name='Choose a promising track')\n",
    "\n",
    "########################################################################\n",
    "# add lineage graph\n",
    "viewer.window.add_dock_widget(plot_widget,area='bottom',name='family')\n",
    "\n",
    "# connect lineage graph update\n",
    "labels_layer.events.selected_label.connect(bv_f.update_lineage_display)\n",
    "\n",
    "# init family line\n",
    "bv_f.init_family_line(0)\n",
    "\n",
    "\n",
    "########################################################################\n",
    "# share menu specific elements\n",
    "widget_variables=['promise_list','widget_label_promise','widget_list_promise']\n",
    "for var in widget_variables:\n",
    "    \n",
    "    exec(f'bv_f.{var} = {var}')"
   ]
  },
  {
   "cell_type": "markdown",
   "id": "93570af0-a6fc-4b80-b3b6-35ade63fa78d",
   "metadata": {},
   "source": [
    "<font size = '6'>Upscale final tracked dataframe for downstream 4i alignment </font>"
   ]
  },
  {
   "cell_type": "code",
   "execution_count": null,
   "id": "0a7bba3f",
   "metadata": {},
   "outputs": [],
   "source": [
    "#Add in a bit to check that promising tracks have all been cleared.If you attempt to upscale with promising tracks left, you'll\n",
    "#need to set a variable equal to the number of promising tracks remaining to override the check and proceed with upscaling.\n",
    "\n",
    "promising_track_override = 0\n",
    "\n",
    "# Check if 'downscaled' column exists\n",
    "if 'downscaled' not in df.columns:\n",
    "    df['downscaled'] = 0\n",
    "\n",
    "# Check downscaled coloumn for consistency\n",
    "unique_values = df['downscaled'].unique()\n",
    "# Determine if all promising tracks have been tracked\n",
    "num_promising_tracks = df['promise'].sum()\n",
    "\n",
    "if scaling_factor != 1:\n",
    "    \n",
    "    if len(unique_values) == 1:\n",
    "        val = unique_values[0]\n",
    "        \n",
    "        if val == 0:\n",
    "            print(\"The dataframe has not been downscaled. This operation is not required. Upscaling not performed\")\n",
    "        elif val == 1:\n",
    "            # Check if there are any promising tracks or if the override is set\n",
    "            if num_promising_tracks == 0 or num_promising_tracks == promising_track_override:\n",
    "                # Function to upsample a boolean image by a given factor\n",
    "                def upscale_image(image, factor=scaling_factor):\n",
    "                    return zoom(image, factor, order=0) > 0.5\n",
    "                \n",
    "                df[cols_to_scale] = df[cols_to_scale] * scaling_factor\n",
    "                \n",
    "                # Upscale the images in the 'image' column\n",
    "                df['image'] = df['image'].apply(upscale_image)\n",
    "                \n",
    "                # Set the 'downscaled' column to 1, indicating that the dataframe has been upscaled\n",
    "                df['downscaled'] = 2  # Adjusted the value to 2 to indicate upscaling\n",
    "                print(f'Dataframe upscaled by a factor of {scaling_factor}')\n",
    "                #Save upscaled dataframe\n",
    "                df.to_pickle(os.path.join(exp_dir,'df',df_name))\n",
    "                print('The upscaled dataframe has been saved')\n",
    "            else:\n",
    "                print(f\"The dataframe has promising tracks remaining. Cannot proceed with upscaling. Set the variable promising_track_override to {num_promising_tracks} to override.\")\n",
    "        elif val == 2:\n",
    "            print(\"The dataframe has already been downscaled and upscaled. This operation should not be run multiple times. Upscaling not performed.\")\n",
    "    else:\n",
    "        print(\"The 'downscaled' column has multiple unique values. Please ensure its consistency.\")\n",
    "else:\n",
    "    print('Scaling_factor set to 1, no scaling requested. Scaling not performed')\n",
    "    #Save final dataframe\n",
    "    df.to_pickle(os.path.join(exp_dir,'df',df_name))\n",
    "    print('The dataframe has been saved')"
   ]
  },
  {
   "cell_type": "code",
   "execution_count": null,
   "id": "0c5083bd-f0ce-4ccb-a1be-8d096abb9567",
   "metadata": {},
   "outputs": [],
   "source": []
  }
 ],
 "metadata": {
  "kernelspec": {
   "display_name": "Python 3 (ipykernel)",
   "language": "python",
   "name": "python3"
  },
  "language_info": {
   "codemirror_mode": {
    "name": "ipython",
    "version": 3
   },
   "file_extension": ".py",
   "mimetype": "text/x-python",
   "name": "python",
   "nbconvert_exporter": "python",
   "pygments_lexer": "ipython3",
   "version": "3.9.16"
  }
 },
 "nbformat": 4,
 "nbformat_minor": 5
}

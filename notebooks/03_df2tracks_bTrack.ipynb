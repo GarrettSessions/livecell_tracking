{
 "cells": [
  {
   "cell_type": "code",
   "execution_count": 1,
   "id": "f49352f4",
   "metadata": {},
   "outputs": [],
   "source": [
    "%load_ext autoreload\n",
    "%autoreload 2\n",
    "\n",
    "import os\n",
    "import sys\n",
    "import time\n",
    "import pickle\n",
    "import napari\n",
    "import numpy as np\n",
    "import pandas as pd\n",
    "\n",
    "from skimage.io import imread\n",
    "\n",
    "import btrack\n",
    "from btrack.constants import BayesianUpdates\n",
    "\n",
    "sys.path.append('../libraries')\n",
    "import input_functions as inp_f"
   ]
  },
  {
   "cell_type": "code",
   "execution_count": 2,
   "id": "ace00128",
   "metadata": {},
   "outputs": [],
   "source": [
    "info_file_path = r'Z:\\Garrett\\Livecell\\072723_50hr_20uM_TBHP\\data\\info_B02.txt'"
   ]
  },
  {
   "cell_type": "code",
   "execution_count": 3,
   "id": "ade417d1",
   "metadata": {},
   "outputs": [],
   "source": [
    "# read the file\n",
    "info_file = open(info_file_path, 'r')\n",
    "info_lines = info_file.readlines()\n",
    "info_file.close()\n",
    "\n",
    "# read info about the data frame\n",
    "exp_dir,df_name = inp_f.read_df_info(info_lines)\n",
    "\n",
    "df_dir = os.path.join(exp_dir,'df')\n",
    "save_dir = df_dir\n",
    "\n",
    "frames_to_exclude = inp_f.read_frames_2_exclude(info_lines)\n",
    "#frames_to_exclude = eval(frames_to_exclude)\n",
    "\n",
    "modelPath = os.path.join(exp_dir,'code','libraries','cell_config.json')"
   ]
  },
  {
   "cell_type": "markdown",
   "id": "6e12d00b",
   "metadata": {},
   "source": [
    "## Read in the data frame objects data"
   ]
  },
  {
   "cell_type": "code",
   "execution_count": 4,
   "id": "b1afb219",
   "metadata": {},
   "outputs": [],
   "source": [
    "data_df = pd.read_pickle(os.path.join(df_dir,df_name))"
   ]
  },
  {
   "cell_type": "code",
   "execution_count": 5,
   "id": "ba6b00e6",
   "metadata": {},
   "outputs": [
    {
     "data": {
      "text/html": [
       "<div>\n",
       "<style scoped>\n",
       "    .dataframe tbody tr th:only-of-type {\n",
       "        vertical-align: middle;\n",
       "    }\n",
       "\n",
       "    .dataframe tbody tr th {\n",
       "        vertical-align: top;\n",
       "    }\n",
       "\n",
       "    .dataframe thead th {\n",
       "        text-align: right;\n",
       "    }\n",
       "</style>\n",
       "<table border=\"1\" class=\"dataframe\">\n",
       "  <thead>\n",
       "    <tr style=\"text-align: right;\">\n",
       "      <th></th>\n",
       "      <th>label</th>\n",
       "      <th>area</th>\n",
       "      <th>centroid-0</th>\n",
       "      <th>centroid-1</th>\n",
       "      <th>orientation</th>\n",
       "      <th>major_axis_length</th>\n",
       "      <th>minor_axis_length</th>\n",
       "      <th>bbox-0</th>\n",
       "      <th>bbox-1</th>\n",
       "      <th>bbox-2</th>\n",
       "      <th>bbox-3</th>\n",
       "      <th>image</th>\n",
       "      <th>mean_intensity-0_nuc</th>\n",
       "      <th>file</th>\n",
       "      <th>t</th>\n",
       "      <th>centroid-0_ring</th>\n",
       "      <th>centroid-1_ring</th>\n",
       "      <th>mean_intensity-0_ring</th>\n",
       "      <th>size_x</th>\n",
       "      <th>size_y</th>\n",
       "    </tr>\n",
       "  </thead>\n",
       "  <tbody>\n",
       "    <tr>\n",
       "      <th>0</th>\n",
       "      <td>10</td>\n",
       "      <td>2486</td>\n",
       "      <td>26.693886</td>\n",
       "      <td>2479.874497</td>\n",
       "      <td>1.076862</td>\n",
       "      <td>70.784005</td>\n",
       "      <td>44.762487</td>\n",
       "      <td>1</td>\n",
       "      <td>2448</td>\n",
       "      <td>53</td>\n",
       "      <td>2514</td>\n",
       "      <td>[[False, False, False, False, False, False, Fa...</td>\n",
       "      <td>1655.198311</td>\n",
       "      <td>WellB02_ChannelCFP_Seq0000 - Stitched_000_labe...</td>\n",
       "      <td>0</td>\n",
       "      <td>30.831257</td>\n",
       "      <td>2481.340883</td>\n",
       "      <td>642.251416</td>\n",
       "      <td>13435</td>\n",
       "      <td>13428</td>\n",
       "    </tr>\n",
       "    <tr>\n",
       "      <th>1</th>\n",
       "      <td>11</td>\n",
       "      <td>1001</td>\n",
       "      <td>13.434565</td>\n",
       "      <td>2828.053946</td>\n",
       "      <td>1.210713</td>\n",
       "      <td>44.682983</td>\n",
       "      <td>30.771292</td>\n",
       "      <td>1</td>\n",
       "      <td>2804</td>\n",
       "      <td>34</td>\n",
       "      <td>2848</td>\n",
       "      <td>[[True, True, True, True, True, True, True, Tr...</td>\n",
       "      <td>697.327672</td>\n",
       "      <td>WellB02_ChannelCFP_Seq0000 - Stitched_000_labe...</td>\n",
       "      <td>0</td>\n",
       "      <td>20.406953</td>\n",
       "      <td>2828.672802</td>\n",
       "      <td>583.652352</td>\n",
       "      <td>13435</td>\n",
       "      <td>13428</td>\n",
       "    </tr>\n",
       "    <tr>\n",
       "      <th>2</th>\n",
       "      <td>12</td>\n",
       "      <td>2095</td>\n",
       "      <td>21.589499</td>\n",
       "      <td>5195.892601</td>\n",
       "      <td>1.431365</td>\n",
       "      <td>67.398337</td>\n",
       "      <td>39.774593</td>\n",
       "      <td>1</td>\n",
       "      <td>5162</td>\n",
       "      <td>42</td>\n",
       "      <td>5230</td>\n",
       "      <td>[[False, False, False, False, False, False, Fa...</td>\n",
       "      <td>2267.723628</td>\n",
       "      <td>WellB02_ChannelCFP_Seq0000 - Stitched_000_labe...</td>\n",
       "      <td>0</td>\n",
       "      <td>25.437272</td>\n",
       "      <td>5195.978076</td>\n",
       "      <td>742.729598</td>\n",
       "      <td>13435</td>\n",
       "      <td>13428</td>\n",
       "    </tr>\n",
       "    <tr>\n",
       "      <th>3</th>\n",
       "      <td>13</td>\n",
       "      <td>2861</td>\n",
       "      <td>37.156239</td>\n",
       "      <td>9237.178259</td>\n",
       "      <td>-0.864351</td>\n",
       "      <td>72.801658</td>\n",
       "      <td>50.067969</td>\n",
       "      <td>7</td>\n",
       "      <td>9205</td>\n",
       "      <td>68</td>\n",
       "      <td>9269</td>\n",
       "      <td>[[False, False, False, False, False, False, Fa...</td>\n",
       "      <td>1573.735757</td>\n",
       "      <td>WellB02_ChannelCFP_Seq0000 - Stitched_000_labe...</td>\n",
       "      <td>0</td>\n",
       "      <td>37.036723</td>\n",
       "      <td>9237.263653</td>\n",
       "      <td>721.075330</td>\n",
       "      <td>13435</td>\n",
       "      <td>13428</td>\n",
       "    </tr>\n",
       "    <tr>\n",
       "      <th>4</th>\n",
       "      <td>14</td>\n",
       "      <td>1048</td>\n",
       "      <td>34.223282</td>\n",
       "      <td>1490.215649</td>\n",
       "      <td>0.307027</td>\n",
       "      <td>48.521121</td>\n",
       "      <td>28.160505</td>\n",
       "      <td>8</td>\n",
       "      <td>1476</td>\n",
       "      <td>56</td>\n",
       "      <td>1507</td>\n",
       "      <td>[[False, False, False, False, False, False, Fa...</td>\n",
       "      <td>933.001908</td>\n",
       "      <td>WellB02_ChannelCFP_Seq0000 - Stitched_000_labe...</td>\n",
       "      <td>0</td>\n",
       "      <td>33.216968</td>\n",
       "      <td>1490.027816</td>\n",
       "      <td>726.929068</td>\n",
       "      <td>13435</td>\n",
       "      <td>13428</td>\n",
       "    </tr>\n",
       "  </tbody>\n",
       "</table>\n",
       "</div>"
      ],
      "text/plain": [
       "   label  area  centroid-0   centroid-1  orientation  major_axis_length  \\\n",
       "0     10  2486   26.693886  2479.874497     1.076862          70.784005   \n",
       "1     11  1001   13.434565  2828.053946     1.210713          44.682983   \n",
       "2     12  2095   21.589499  5195.892601     1.431365          67.398337   \n",
       "3     13  2861   37.156239  9237.178259    -0.864351          72.801658   \n",
       "4     14  1048   34.223282  1490.215649     0.307027          48.521121   \n",
       "\n",
       "   minor_axis_length  bbox-0  bbox-1  bbox-2  bbox-3  \\\n",
       "0          44.762487       1    2448      53    2514   \n",
       "1          30.771292       1    2804      34    2848   \n",
       "2          39.774593       1    5162      42    5230   \n",
       "3          50.067969       7    9205      68    9269   \n",
       "4          28.160505       8    1476      56    1507   \n",
       "\n",
       "                                               image  mean_intensity-0_nuc  \\\n",
       "0  [[False, False, False, False, False, False, Fa...           1655.198311   \n",
       "1  [[True, True, True, True, True, True, True, Tr...            697.327672   \n",
       "2  [[False, False, False, False, False, False, Fa...           2267.723628   \n",
       "3  [[False, False, False, False, False, False, Fa...           1573.735757   \n",
       "4  [[False, False, False, False, False, False, Fa...            933.001908   \n",
       "\n",
       "                                                file  t  centroid-0_ring  \\\n",
       "0  WellB02_ChannelCFP_Seq0000 - Stitched_000_labe...  0        30.831257   \n",
       "1  WellB02_ChannelCFP_Seq0000 - Stitched_000_labe...  0        20.406953   \n",
       "2  WellB02_ChannelCFP_Seq0000 - Stitched_000_labe...  0        25.437272   \n",
       "3  WellB02_ChannelCFP_Seq0000 - Stitched_000_labe...  0        37.036723   \n",
       "4  WellB02_ChannelCFP_Seq0000 - Stitched_000_labe...  0        33.216968   \n",
       "\n",
       "   centroid-1_ring  mean_intensity-0_ring  size_x  size_y  \n",
       "0      2481.340883             642.251416   13435   13428  \n",
       "1      2828.672802             583.652352   13435   13428  \n",
       "2      5195.978076             742.729598   13435   13428  \n",
       "3      9237.263653             721.075330   13435   13428  \n",
       "4      1490.027816             726.929068   13435   13428  "
      ]
     },
     "execution_count": 5,
     "metadata": {},
     "output_type": "execute_result"
    }
   ],
   "source": [
    "data_df.head()"
   ]
  },
  {
   "cell_type": "code",
   "execution_count": 6,
   "id": "e56aae03",
   "metadata": {},
   "outputs": [
    {
     "data": {
      "text/plain": [
       "581734"
      ]
     },
     "execution_count": 6,
     "metadata": {},
     "output_type": "execute_result"
    }
   ],
   "source": [
    "len(data_df)"
   ]
  },
  {
   "cell_type": "code",
   "execution_count": 7,
   "id": "70555df4",
   "metadata": {
    "scrolled": true
   },
   "outputs": [
    {
     "data": {
      "text/html": [
       "<div>\n",
       "<style scoped>\n",
       "    .dataframe tbody tr th:only-of-type {\n",
       "        vertical-align: middle;\n",
       "    }\n",
       "\n",
       "    .dataframe tbody tr th {\n",
       "        vertical-align: top;\n",
       "    }\n",
       "\n",
       "    .dataframe thead th {\n",
       "        text-align: right;\n",
       "    }\n",
       "</style>\n",
       "<table border=\"1\" class=\"dataframe\">\n",
       "  <thead>\n",
       "    <tr style=\"text-align: right;\">\n",
       "      <th></th>\n",
       "      <th>ID</th>\n",
       "      <th>area</th>\n",
       "      <th>x</th>\n",
       "      <th>y</th>\n",
       "      <th>major_axis_length</th>\n",
       "      <th>minor_axis_length</th>\n",
       "      <th>t</th>\n",
       "      <th>z</th>\n",
       "      <th>label</th>\n",
       "      <th>prob</th>\n",
       "      <th>dummy</th>\n",
       "      <th>states</th>\n",
       "    </tr>\n",
       "  </thead>\n",
       "  <tbody>\n",
       "    <tr>\n",
       "      <th>0</th>\n",
       "      <td>10</td>\n",
       "      <td>2486</td>\n",
       "      <td>2479.874497</td>\n",
       "      <td>26.693886</td>\n",
       "      <td>70.784005</td>\n",
       "      <td>44.762487</td>\n",
       "      <td>0</td>\n",
       "      <td>0</td>\n",
       "      <td>5</td>\n",
       "      <td>0</td>\n",
       "      <td>False</td>\n",
       "      <td>0</td>\n",
       "    </tr>\n",
       "    <tr>\n",
       "      <th>1</th>\n",
       "      <td>11</td>\n",
       "      <td>1001</td>\n",
       "      <td>2828.053946</td>\n",
       "      <td>13.434565</td>\n",
       "      <td>44.682983</td>\n",
       "      <td>30.771292</td>\n",
       "      <td>0</td>\n",
       "      <td>0</td>\n",
       "      <td>5</td>\n",
       "      <td>0</td>\n",
       "      <td>False</td>\n",
       "      <td>0</td>\n",
       "    </tr>\n",
       "    <tr>\n",
       "      <th>2</th>\n",
       "      <td>12</td>\n",
       "      <td>2095</td>\n",
       "      <td>5195.892601</td>\n",
       "      <td>21.589499</td>\n",
       "      <td>67.398337</td>\n",
       "      <td>39.774593</td>\n",
       "      <td>0</td>\n",
       "      <td>0</td>\n",
       "      <td>5</td>\n",
       "      <td>0</td>\n",
       "      <td>False</td>\n",
       "      <td>0</td>\n",
       "    </tr>\n",
       "    <tr>\n",
       "      <th>3</th>\n",
       "      <td>13</td>\n",
       "      <td>2861</td>\n",
       "      <td>9237.178259</td>\n",
       "      <td>37.156239</td>\n",
       "      <td>72.801658</td>\n",
       "      <td>50.067969</td>\n",
       "      <td>0</td>\n",
       "      <td>0</td>\n",
       "      <td>5</td>\n",
       "      <td>0</td>\n",
       "      <td>False</td>\n",
       "      <td>0</td>\n",
       "    </tr>\n",
       "    <tr>\n",
       "      <th>4</th>\n",
       "      <td>14</td>\n",
       "      <td>1048</td>\n",
       "      <td>1490.215649</td>\n",
       "      <td>34.223282</td>\n",
       "      <td>48.521121</td>\n",
       "      <td>28.160505</td>\n",
       "      <td>0</td>\n",
       "      <td>0</td>\n",
       "      <td>5</td>\n",
       "      <td>0</td>\n",
       "      <td>False</td>\n",
       "      <td>0</td>\n",
       "    </tr>\n",
       "  </tbody>\n",
       "</table>\n",
       "</div>"
      ],
      "text/plain": [
       "   ID  area            x          y  major_axis_length  minor_axis_length  t  \\\n",
       "0  10  2486  2479.874497  26.693886          70.784005          44.762487  0   \n",
       "1  11  1001  2828.053946  13.434565          44.682983          30.771292  0   \n",
       "2  12  2095  5195.892601  21.589499          67.398337          39.774593  0   \n",
       "3  13  2861  9237.178259  37.156239          72.801658          50.067969  0   \n",
       "4  14  1048  1490.215649  34.223282          48.521121          28.160505  0   \n",
       "\n",
       "   z  label  prob  dummy  states  \n",
       "0  0      5     0  False       0  \n",
       "1  0      5     0  False       0  \n",
       "2  0      5     0  False       0  \n",
       "3  0      5     0  False       0  \n",
       "4  0      5     0  False       0  "
      ]
     },
     "execution_count": 7,
     "metadata": {},
     "output_type": "execute_result"
    }
   ],
   "source": [
    "# create a structure suitable for tracking\n",
    "\n",
    "# choose objects \n",
    "sel_vector = [not(x in frames_to_exclude) for x in data_df.t]\n",
    "\n",
    "objects_gen = data_df.loc[sel_vector,['label','area','centroid-1','centroid-0','major_axis_length','minor_axis_length','t']]\n",
    "\n",
    "objects_gen.columns=['ID', 'area', 'x', 'y', 'major_axis_length','minor_axis_length','t']\n",
    "objects_gen['z']=0\n",
    "objects_gen['label']=5\n",
    "objects_gen['prob']=0\n",
    "objects_gen['dummy']=False\n",
    "objects_gen['states']=0\n",
    "\n",
    "objects_gen.head()"
   ]
  },
  {
   "cell_type": "code",
   "execution_count": 8,
   "id": "6b974e07",
   "metadata": {},
   "outputs": [
    {
     "data": {
      "text/plain": [
       "581734"
      ]
     },
     "execution_count": 8,
     "metadata": {},
     "output_type": "execute_result"
    }
   ],
   "source": [
    "len(objects_gen)"
   ]
  },
  {
   "cell_type": "markdown",
   "id": "c87b43d6",
   "metadata": {},
   "source": [
    "## Tracking proper"
   ]
  },
  {
   "cell_type": "code",
   "execution_count": 9,
   "id": "52a3c0da",
   "metadata": {},
   "outputs": [
    {
     "name": "stderr",
     "output_type": "stream",
     "text": [
      "[INFO][2023/08/14 02:52:16 PM] Loaded btrack: C:\\Users\\gases\\.conda\\envs\\livecell_tracking\\Lib\\site-packages\\btrack\\libs\\libtracker.DLL\n",
      "[INFO][2023/08/14 02:52:16 PM] Starting BayesianTracker session\n",
      "[INFO][2023/08/14 02:52:16 PM] Loading configuration file: Z:\\Garrett\\Livecell\\072723_50hr_20uM_TBHP\\code\\libraries\\cell_config.json\n",
      "[INFO][2023/08/14 02:52:16 PM] Objects are of type: <class 'pandas.core.frame.DataFrame'>\n",
      "[WARNING][2023/08/14 02:52:23 PM] `track_interactive` will be deprecated. Use `track` instead.\n",
      "[INFO][2023/08/14 02:52:23 PM] Starting tracking... \n",
      "[INFO][2023/08/14 02:52:23 PM] Update using: ['MOTION']\n",
      "[INFO][2023/08/14 02:52:23 PM] Tracking objects in frames 0 to 99 (of 188)...\n",
      "[INFO][2023/08/14 02:52:38 PM]  - Timing (Bayesian updates: 61.00ms, Linking: 46.00ms)\n",
      "[INFO][2023/08/14 02:52:38 PM]  - Probabilities (Link: 0.99988, Lost: 1.00000)\n",
      "[INFO][2023/08/14 02:52:38 PM]  - Stats (Active: 7385, Lost: 473630, Conflicts resolved: 28414)\n",
      "[INFO][2023/08/14 02:52:38 PM] Tracking objects in frames 100 to 188 (of 188)...\n",
      "[INFO][2023/08/14 02:52:53 PM]  - Timing (Bayesian updates: 76.00ms, Linking: 55.00ms)\n",
      "[INFO][2023/08/14 02:52:53 PM]  - Probabilities (Link: 0.97948, Lost: 1.00000)\n",
      "[INFO][2023/08/14 02:52:53 PM] SUCCESS.\n",
      "[INFO][2023/08/14 02:52:53 PM]  - Found 169695 tracks in 188 frames (in 0.0s)\n",
      "[INFO][2023/08/14 02:52:54 PM]  - Inserted 46568 dummy objects to fill tracking gaps\n",
      "[INFO][2023/08/14 02:52:54 PM] Loading hypothesis model: cell_hypothesis\n",
      "[INFO][2023/08/14 02:52:54 PM] Calculating hypotheses (relax: True)...\n",
      "[INFO][2023/08/14 02:52:56 PM] Setting up constraints matrix for global optimisation...\n",
      "[INFO][2023/08/14 02:52:56 PM] Using GLPK options: {'tm_lim': 60000}...\n",
      "[INFO][2023/08/14 02:56:45 PM] Optimizing...\n",
      "[WARNING][2023/08/14 02:57:46 PM] Optimizer returned status: undefined\n",
      "[WARNING][2023/08/14 02:57:46 PM] Optimization failed.\n",
      "[INFO][2023/08/14 02:58:03 PM] Ending BayesianTracker session\n"
     ]
    }
   ],
   "source": [
    "# initialise a tracker session using a context manager\n",
    "with btrack.BayesianTracker() as tracker:\n",
    "\n",
    "    # configure the tracker using a config file\n",
    "    tracker.configure_from_file(modelPath)\n",
    "    \n",
    "    # approximate\n",
    "    tracker.update_method = BayesianUpdates.APPROXIMATE\n",
    "    tracker.max_search_radius = 100\n",
    "\n",
    "    # append the objects to be tracked\n",
    "    tracker.append(objects_gen)\n",
    "\n",
    "    # set the volume (Z axis volume is set very large for 2D data)\n",
    "    tracker.volume=((0, data_df.size_x[0]), (0, data_df.size_y[0]), (-1e5, 1e5))\n",
    "\n",
    "    # track them (in interactive mode)\n",
    "    tracker.track_interactive(step_size=100)\n",
    "\n",
    "    # generate hypotheses and run the global optimizer\n",
    "    tracker.optimize()\n",
    "\n",
    "    # optional: get the data in a format for napari\n",
    "    data, properties, graph = tracker.to_napari(ndim=2)\n",
    "    # pickle Napari data\n",
    "    with open(os.path.join(df_dir,'track.pkl'),'wb') as f:\n",
    "        pickle.dump([data,properties,graph],f)"
   ]
  },
  {
   "cell_type": "markdown",
   "id": "ed80fdcf",
   "metadata": {},
   "source": [
    "## Merging objects and tracking information"
   ]
  },
  {
   "cell_type": "code",
   "execution_count": 10,
   "id": "8b0841c1",
   "metadata": {},
   "outputs": [],
   "source": [
    "trackDataAll = pd.DataFrame(data,columns=['track_id','t','x','y'])\n",
    "trackDataAll['parent'] = properties['parent']\n",
    "trackDataAll['generation'] = properties['generation']\n",
    "trackDataAll['root'] = properties['root']"
   ]
  },
  {
   "cell_type": "code",
   "execution_count": 11,
   "id": "47a321d3",
   "metadata": {},
   "outputs": [
    {
     "data": {
      "text/plain": [
       "628275"
      ]
     },
     "execution_count": 11,
     "metadata": {},
     "output_type": "execute_result"
    }
   ],
   "source": [
    "len(trackDataAll)"
   ]
  },
  {
   "cell_type": "code",
   "execution_count": 12,
   "id": "f9b1de5f",
   "metadata": {},
   "outputs": [
    {
     "data": {
      "text/html": [
       "<div>\n",
       "<style scoped>\n",
       "    .dataframe tbody tr th:only-of-type {\n",
       "        vertical-align: middle;\n",
       "    }\n",
       "\n",
       "    .dataframe tbody tr th {\n",
       "        vertical-align: top;\n",
       "    }\n",
       "\n",
       "    .dataframe thead th {\n",
       "        text-align: right;\n",
       "    }\n",
       "</style>\n",
       "<table border=\"1\" class=\"dataframe\">\n",
       "  <thead>\n",
       "    <tr style=\"text-align: right;\">\n",
       "      <th></th>\n",
       "      <th>track_id</th>\n",
       "      <th>t</th>\n",
       "      <th>x</th>\n",
       "      <th>y</th>\n",
       "      <th>parent</th>\n",
       "      <th>generation</th>\n",
       "      <th>root</th>\n",
       "    </tr>\n",
       "  </thead>\n",
       "  <tbody>\n",
       "    <tr>\n",
       "      <th>0</th>\n",
       "      <td>1.0</td>\n",
       "      <td>0.0</td>\n",
       "      <td>8371.940594</td>\n",
       "      <td>12394.912183</td>\n",
       "      <td>1</td>\n",
       "      <td>0</td>\n",
       "      <td>1</td>\n",
       "    </tr>\n",
       "    <tr>\n",
       "      <th>1</th>\n",
       "      <td>2.0</td>\n",
       "      <td>0.0</td>\n",
       "      <td>8310.065474</td>\n",
       "      <td>9081.284669</td>\n",
       "      <td>2</td>\n",
       "      <td>0</td>\n",
       "      <td>2</td>\n",
       "    </tr>\n",
       "    <tr>\n",
       "      <th>2</th>\n",
       "      <td>2.0</td>\n",
       "      <td>1.0</td>\n",
       "      <td>8318.763926</td>\n",
       "      <td>9068.812429</td>\n",
       "      <td>2</td>\n",
       "      <td>0</td>\n",
       "      <td>2</td>\n",
       "    </tr>\n",
       "    <tr>\n",
       "      <th>3</th>\n",
       "      <td>3.0</td>\n",
       "      <td>0.0</td>\n",
       "      <td>8308.896731</td>\n",
       "      <td>10454.902416</td>\n",
       "      <td>3</td>\n",
       "      <td>0</td>\n",
       "      <td>3</td>\n",
       "    </tr>\n",
       "    <tr>\n",
       "      <th>4</th>\n",
       "      <td>3.0</td>\n",
       "      <td>1.0</td>\n",
       "      <td>8321.149721</td>\n",
       "      <td>10440.769627</td>\n",
       "      <td>3</td>\n",
       "      <td>0</td>\n",
       "      <td>3</td>\n",
       "    </tr>\n",
       "    <tr>\n",
       "      <th>...</th>\n",
       "      <td>...</td>\n",
       "      <td>...</td>\n",
       "      <td>...</td>\n",
       "      <td>...</td>\n",
       "      <td>...</td>\n",
       "      <td>...</td>\n",
       "      <td>...</td>\n",
       "    </tr>\n",
       "    <tr>\n",
       "      <th>628270</th>\n",
       "      <td>169691.0</td>\n",
       "      <td>187.0</td>\n",
       "      <td>6555.289863</td>\n",
       "      <td>3068.840021</td>\n",
       "      <td>169691</td>\n",
       "      <td>0</td>\n",
       "      <td>169691</td>\n",
       "    </tr>\n",
       "    <tr>\n",
       "      <th>628271</th>\n",
       "      <td>169692.0</td>\n",
       "      <td>187.0</td>\n",
       "      <td>6615.023224</td>\n",
       "      <td>5469.521858</td>\n",
       "      <td>169692</td>\n",
       "      <td>0</td>\n",
       "      <td>169692</td>\n",
       "    </tr>\n",
       "    <tr>\n",
       "      <th>628272</th>\n",
       "      <td>169693.0</td>\n",
       "      <td>187.0</td>\n",
       "      <td>4216.636550</td>\n",
       "      <td>10883.990418</td>\n",
       "      <td>169693</td>\n",
       "      <td>0</td>\n",
       "      <td>169693</td>\n",
       "    </tr>\n",
       "    <tr>\n",
       "      <th>628273</th>\n",
       "      <td>169694.0</td>\n",
       "      <td>187.0</td>\n",
       "      <td>6665.465623</td>\n",
       "      <td>2667.466741</td>\n",
       "      <td>169694</td>\n",
       "      <td>0</td>\n",
       "      <td>169694</td>\n",
       "    </tr>\n",
       "    <tr>\n",
       "      <th>628274</th>\n",
       "      <td>169695.0</td>\n",
       "      <td>187.0</td>\n",
       "      <td>6679.884232</td>\n",
       "      <td>5230.142515</td>\n",
       "      <td>169695</td>\n",
       "      <td>0</td>\n",
       "      <td>169695</td>\n",
       "    </tr>\n",
       "  </tbody>\n",
       "</table>\n",
       "<p>628275 rows × 7 columns</p>\n",
       "</div>"
      ],
      "text/plain": [
       "        track_id      t            x             y  parent  generation    root\n",
       "0            1.0    0.0  8371.940594  12394.912183       1           0       1\n",
       "1            2.0    0.0  8310.065474   9081.284669       2           0       2\n",
       "2            2.0    1.0  8318.763926   9068.812429       2           0       2\n",
       "3            3.0    0.0  8308.896731  10454.902416       3           0       3\n",
       "4            3.0    1.0  8321.149721  10440.769627       3           0       3\n",
       "...          ...    ...          ...           ...     ...         ...     ...\n",
       "628270  169691.0  187.0  6555.289863   3068.840021  169691           0  169691\n",
       "628271  169692.0  187.0  6615.023224   5469.521858  169692           0  169692\n",
       "628272  169693.0  187.0  4216.636550  10883.990418  169693           0  169693\n",
       "628273  169694.0  187.0  6665.465623   2667.466741  169694           0  169694\n",
       "628274  169695.0  187.0  6679.884232   5230.142515  169695           0  169695\n",
       "\n",
       "[628275 rows x 7 columns]"
      ]
     },
     "execution_count": 12,
     "metadata": {},
     "output_type": "execute_result"
    }
   ],
   "source": [
    "trackDataAll"
   ]
  },
  {
   "cell_type": "code",
   "execution_count": 13,
   "id": "6851c7dc",
   "metadata": {
    "scrolled": true
   },
   "outputs": [],
   "source": [
    "allData = pd.merge(left=data_df,right=trackDataAll,left_on=['centroid-0','centroid-1','t'],right_on=['x','y','t'],how='left')"
   ]
  },
  {
   "cell_type": "code",
   "execution_count": 14,
   "id": "a0f4ff1f",
   "metadata": {
    "scrolled": true
   },
   "outputs": [
    {
     "name": "stdout",
     "output_type": "stream",
     "text": [
      "Number of all objects: 581734\n"
     ]
    }
   ],
   "source": [
    "print(f'Number of all objects: {len(allData)}')"
   ]
  },
  {
   "cell_type": "code",
   "execution_count": 15,
   "id": "9e8e0a39-ebd9-420c-81fb-14f4633d5a13",
   "metadata": {},
   "outputs": [
    {
     "data": {
      "text/plain": [
       "Index(['label', 'area', 'centroid-0', 'centroid-1', 'orientation',\n",
       "       'major_axis_length', 'minor_axis_length', 'bbox-0', 'bbox-1', 'bbox-2',\n",
       "       'bbox-3', 'image', 'mean_intensity-0_nuc', 'file', 't',\n",
       "       'centroid-0_ring', 'centroid-1_ring', 'mean_intensity-0_ring', 'size_x',\n",
       "       'size_y', 'track_id', 'x', 'y', 'parent', 'generation', 'root'],\n",
       "      dtype='object')"
      ]
     },
     "execution_count": 15,
     "metadata": {},
     "output_type": "execute_result"
    }
   ],
   "source": [
    "allData.columns"
   ]
  },
  {
   "cell_type": "code",
   "execution_count": 16,
   "id": "124c8613",
   "metadata": {},
   "outputs": [
    {
     "name": "stdout",
     "output_type": "stream",
     "text": [
      "Number of objects without track_id: 27\n"
     ]
    }
   ],
   "source": [
    "# check how many objects doesn't have a track_id\n",
    "test = np.sum(allData.track_id!=allData.track_id)\n",
    "print(f'Number of objects without track_id: {test}')"
   ]
  },
  {
   "cell_type": "markdown",
   "id": "e187e177",
   "metadata": {},
   "source": [
    "## Be careful!!!"
   ]
  },
  {
   "cell_type": "code",
   "execution_count": 17,
   "id": "f1335a55",
   "metadata": {},
   "outputs": [
    {
     "name": "stdout",
     "output_type": "stream",
     "text": [
      "Number of all objects: 581707\n"
     ]
    }
   ],
   "source": [
    "# consider removing\n",
    "allData = allData.loc[allData.track_id==allData.track_id,:]\n",
    "print(f'Number of all objects: {len(allData)}')"
   ]
  },
  {
   "cell_type": "markdown",
   "id": "47b83438",
   "metadata": {},
   "source": [
    "## Define promising tracks"
   ]
  },
  {
   "cell_type": "markdown",
   "id": "69a7b8cb",
   "metadata": {},
   "source": [
    "This part is manual at the moment."
   ]
  },
  {
   "cell_type": "code",
   "execution_count": 18,
   "id": "13e7d358",
   "metadata": {},
   "outputs": [
    {
     "name": "stdout",
     "output_type": "stream",
     "text": [
      "169695\n"
     ]
    }
   ],
   "source": [
    "my_tracks = set(allData.track_id)\n",
    "print(len(my_tracks))"
   ]
  },
  {
   "cell_type": "code",
   "execution_count": 19,
   "id": "b9462e1b",
   "metadata": {},
   "outputs": [],
   "source": [
    "allData['accepted'] = False\n",
    "allData['rejected'] = False\n",
    "allData['promise'] = False\n",
    "\n",
    "# mark tracks longer than 100 as promising\n",
    "tracks_set = set(allData.track_id)\n",
    "\n",
    "track_len=[]\n",
    "promise_list = []\n",
    "for track in tracks_set:\n",
    "    \n",
    "    # prepare signals for this track\n",
    "    sel_signal = allData.loc[allData.track_id == track,['t','mean_intensity-0_nuc','mean_intensity-0_ring']]\n",
    "    sel_signal.sort_values(by='t',inplace=True)\n",
    "    sel_mean = sel_signal.rolling(9,min_periods = 9,center=True).mean()\n",
    "    \n",
    "    # test - length\n",
    "    track_test = len(sel_signal)>50\n",
    "    \n",
    "    track_len.append(len(sel_signal))\n",
    "    \n",
    "    # test - DHB presence\n",
    "    dhb_test = np.sum(sel_mean['mean_intensity-0_nuc'] > (sel_mean['mean_intensity-0_ring']+100)) > 10\n",
    "    \n",
    "    if (track_test and dhb_test):\n",
    "        \n",
    "        promise_list.append(track)\n",
    "        \n",
    "        allData.loc[allData.track_id==track,'promise'] = True"
   ]
  },
  {
   "cell_type": "code",
   "execution_count": 20,
   "id": "5eaaf398",
   "metadata": {},
   "outputs": [
    {
     "data": {
      "text/plain": [
       "722"
      ]
     },
     "execution_count": 20,
     "metadata": {},
     "output_type": "execute_result"
    }
   ],
   "source": [
    "len(promise_list)"
   ]
  },
  {
   "cell_type": "markdown",
   "id": "a062a940",
   "metadata": {},
   "source": [
    "## Create columns for requested annotations"
   ]
  },
  {
   "cell_type": "code",
   "execution_count": 21,
   "id": "a2034586",
   "metadata": {},
   "outputs": [],
   "source": [
    "# get info about the tags (for annotating points on the tracks)\n",
    "flag_list = inp_f.read_flags(info_lines,df=allData)\n",
    "\n",
    "for flag in flag_list:\n",
    "    \n",
    "    allData[flag['flag_column']]=False"
   ]
  },
  {
   "cell_type": "code",
   "execution_count": 22,
   "id": "84b4e584",
   "metadata": {},
   "outputs": [],
   "source": [
    "# save df\n",
    "allData.to_pickle(os.path.join(df_dir,df_name))\n",
    "allData.to_csv(os.path.join(df_dir,df_name.replace('pkl','csv')),index=False)"
   ]
  },
  {
   "cell_type": "code",
   "execution_count": null,
   "id": "2e65640d",
   "metadata": {},
   "outputs": [],
   "source": []
  }
 ],
 "metadata": {
  "kernelspec": {
   "display_name": "Python 3 (ipykernel)",
   "language": "python",
   "name": "python3"
  },
  "language_info": {
   "codemirror_mode": {
    "name": "ipython",
    "version": 3
   },
   "file_extension": ".py",
   "mimetype": "text/x-python",
   "name": "python",
   "nbconvert_exporter": "python",
   "pygments_lexer": "ipython3",
   "version": "3.9.16"
  }
 },
 "nbformat": 4,
 "nbformat_minor": 5
}

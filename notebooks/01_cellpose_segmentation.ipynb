{
 "cells": [
  {
   "cell_type": "markdown",
   "id": "fc90b15e",
   "metadata": {},
   "source": [
    "# Cellpose segmentation"
   ]
  },
  {
   "cell_type": "markdown",
   "id": "368ae4cf",
   "metadata": {},
   "source": [
    "Notebook showing how to segment cells using Cellpose."
   ]
  },
  {
   "cell_type": "code",
   "execution_count": 1,
   "id": "fb02ff19",
   "metadata": {
    "scrolled": true
   },
   "outputs": [],
   "source": [
    "%load_ext autoreload\n",
    "%autoreload 2\n",
    "\n",
    "import os\n",
    "import sys\n",
    "from skimage.io import imsave\n",
    "import tensorflow as tf\n",
    "import cellpose\n",
    "from cellpose import models\n",
    "from cellpose import utils\n",
    "\n",
    "sys.path.append('../libraries')\n",
    "import input_functions as inp_f"
   ]
  },
  {
   "cell_type": "code",
   "execution_count": 2,
   "id": "f322f3dc",
   "metadata": {},
   "outputs": [],
   "source": [
    "info_file_path = r'Z:\\Garrett\\Livecell\\072723_50hr_20uM_TBHP\\data\\info_B02_128_188.txt'"
   ]
  },
  {
   "cell_type": "code",
   "execution_count": 3,
   "id": "2e37395e",
   "metadata": {},
   "outputs": [],
   "source": [
    "#Add stuff to do GPU segmentation"
   ]
  },
  {
   "cell_type": "code",
   "execution_count": 2,
   "id": "c20cf40f",
   "metadata": {},
   "outputs": [],
   "source": [
    "os.environ['CUDA_VISIBLE_DEVICES'] = '0'"
   ]
  },
  {
   "cell_type": "code",
   "execution_count": 3,
   "id": "5f16b422",
   "metadata": {
    "scrolled": true
   },
   "outputs": [
    {
     "data": {
      "text/plain": [
       "True"
      ]
     },
     "execution_count": 3,
     "metadata": {},
     "output_type": "execute_result"
    }
   ],
   "source": [
    "#Is cellpose using the GPU, reports True or False\n",
    "cellpose.core.use_gpu(gpu_number=0, use_torch=True)"
   ]
  },
  {
   "cell_type": "code",
   "execution_count": 4,
   "id": "1e797fb1",
   "metadata": {},
   "outputs": [
    {
     "name": "stdout",
     "output_type": "stream",
     "text": [
      "nvcc: NVIDIA (R) Cuda compiler driver\n",
      "Copyright (c) 2005-2022 NVIDIA Corporation\n",
      "Built on Tue_Mar__8_18:36:24_Pacific_Standard_Time_2022\n",
      "Cuda compilation tools, release 11.6, V11.6.124\n",
      "Build cuda_11.6.r11.6/compiler.31057947_0\n",
      "Tue Sep 19 12:50:43 2023       \n",
      "+-----------------------------------------------------------------------------+\n",
      "| NVIDIA-SMI 529.08       Driver Version: 529.08       CUDA Version: 12.0     |\n",
      "|-------------------------------+----------------------+----------------------+\n",
      "| GPU  Name            TCC/WDDM | Bus-Id        Disp.A | Volatile Uncorr. ECC |\n",
      "| Fan  Temp  Perf  Pwr:Usage/Cap|         Memory-Usage | GPU-Util  Compute M. |\n",
      "|                               |                      |               MIG M. |\n",
      "|===============================+======================+======================|\n",
      "|   0  Quadro P620        WDDM  | 00000000:01:00.0 Off |                  N/A |\n",
      "| N/A   50C    P0    N/A /  N/A |     40MiB /  4096MiB |      0%      Default |\n",
      "|                               |                      |                  N/A |\n",
      "+-------------------------------+----------------------+----------------------+\n",
      "                                                                               \n",
      "+-----------------------------------------------------------------------------+\n",
      "| Processes:                                                                  |\n",
      "|  GPU   GI   CI        PID   Type   Process name                  GPU Memory |\n",
      "|        ID   ID                                                   Usage      |\n",
      "|=============================================================================|\n",
      "|    0   N/A  N/A      2620      C   ...ll_GPU_segment\\python.exe    N/A      |\n",
      "+-----------------------------------------------------------------------------+\n"
     ]
    }
   ],
   "source": [
    "!nvcc --version\n",
    "!nvidia-smi"
   ]
  },
  {
   "cell_type": "code",
   "execution_count": 7,
   "id": "1be3c2da",
   "metadata": {},
   "outputs": [],
   "source": [
    "# load cellpose model - set gpu to False if your machine does not support CUDA based GPU segmentation\n",
    "model = models.Cellpose(gpu=True, model_type='cyto')"
   ]
  },
  {
   "cell_type": "code",
   "execution_count": 8,
   "id": "2ab3e5b2",
   "metadata": {},
   "outputs": [],
   "source": [
    "# read the file\n",
    "info_file = open(info_file_path, 'r')\n",
    "info_lines = info_file.readlines()\n",
    "info_file.close()\n",
    "\n",
    "# read info about the data frame\n",
    "exp_dir,df_name = inp_f.read_df_info(info_lines)\n",
    "\n",
    "# get info about the channels\n",
    "channel_list = inp_f.read_channels(info_lines)"
   ]
  },
  {
   "cell_type": "code",
   "execution_count": 9,
   "id": "40d20b99",
   "metadata": {},
   "outputs": [],
   "source": [
    "# read the movie to segment\n",
    "\n",
    "file_name = [x['file_name'] for x in channel_list if x['tracking']][0]\n",
    "c = [x['channel_in_file'] for x in channel_list if x['tracking']][0]\n",
    "im_path = os.path.join(exp_dir,'data',file_name)\n",
    "im_path\n",
    "\n",
    "im = inp_f.open_movie(im_path,c)"
   ]
  },
  {
   "cell_type": "code",
   "execution_count": 10,
   "id": "badddbd7",
   "metadata": {},
   "outputs": [
    {
     "name": "stdout",
     "output_type": "stream",
     "text": [
      "Total frame number: 61\n"
     ]
    }
   ],
   "source": [
    "# check how many timepoints are there in the file\n",
    "frames_num = im.shape[0]\n",
    "\n",
    "print(f'Total frame number: {frames_num}')"
   ]
  },
  {
   "cell_type": "code",
   "execution_count": 11,
   "id": "4011d4d9",
   "metadata": {
    "scrolled": true
   },
   "outputs": [
    {
     "ename": "RuntimeError",
     "evalue": "CUDA out of memory. Tried to allocate 1.35 GiB (GPU 0; 4.00 GiB total capacity; 2.08 GiB already allocated; 0 bytes free; 2.72 GiB reserved in total by PyTorch) If reserved memory is >> allocated memory try setting max_split_size_mb to avoid fragmentation.  See documentation for Memory Management and PYTORCH_CUDA_ALLOC_CONF",
     "output_type": "error",
     "traceback": [
      "\u001b[1;31m---------------------------------------------------------------------------\u001b[0m",
      "\u001b[1;31mRuntimeError\u001b[0m                              Traceback (most recent call last)",
      "\u001b[1;32m~\\AppData\\Local\\Temp\\ipykernel_7068\\3727192809.py\u001b[0m in \u001b[0;36m<module>\u001b[1;34m\u001b[0m\n\u001b[0;32m      8\u001b[0m \u001b[1;33m\u001b[0m\u001b[0m\n\u001b[0;32m      9\u001b[0m     \u001b[1;31m# segment the right plane\u001b[0m\u001b[1;33m\u001b[0m\u001b[1;33m\u001b[0m\u001b[1;33m\u001b[0m\u001b[0m\n\u001b[1;32m---> 10\u001b[1;33m     \u001b[0mlabels\u001b[0m\u001b[1;33m,\u001b[0m \u001b[0m_\u001b[0m\u001b[1;33m,\u001b[0m \u001b[0m_\u001b[0m\u001b[1;33m,\u001b[0m \u001b[0m_\u001b[0m \u001b[1;33m=\u001b[0m \u001b[0mmodel\u001b[0m\u001b[1;33m.\u001b[0m\u001b[0meval\u001b[0m\u001b[1;33m(\u001b[0m\u001b[0mim_frame\u001b[0m\u001b[1;33m,\u001b[0m \u001b[0mdiameter\u001b[0m\u001b[1;33m=\u001b[0m\u001b[1;36m30\u001b[0m\u001b[1;33m,\u001b[0m \u001b[0mchannels\u001b[0m\u001b[1;33m=\u001b[0m\u001b[1;33m[\u001b[0m\u001b[1;36m0\u001b[0m\u001b[1;33m,\u001b[0m\u001b[1;36m0\u001b[0m\u001b[1;33m]\u001b[0m\u001b[1;33m)\u001b[0m\u001b[1;33m\u001b[0m\u001b[1;33m\u001b[0m\u001b[0m\n\u001b[0m\u001b[0;32m     11\u001b[0m \u001b[1;33m\u001b[0m\u001b[0m\n\u001b[0;32m     12\u001b[0m     \u001b[1;31m# save segmentation\u001b[0m\u001b[1;33m\u001b[0m\u001b[1;33m\u001b[0m\u001b[1;33m\u001b[0m\u001b[0m\n",
      "\u001b[1;32m~\\.conda\\envs\\livecell_GPU_segment\\lib\\site-packages\\cellpose\\models.py\u001b[0m in \u001b[0;36meval\u001b[1;34m(self, x, batch_size, channels, channel_axis, z_axis, invert, normalize, diameter, do_3D, anisotropy, net_avg, augment, tile, tile_overlap, resample, interp, flow_threshold, cellprob_threshold, min_size, stitch_threshold, rescale, progress, model_loaded)\u001b[0m\n\u001b[0;32m    258\u001b[0m                                             \u001b[0mmin_size\u001b[0m\u001b[1;33m=\u001b[0m\u001b[0mmin_size\u001b[0m\u001b[1;33m,\u001b[0m\u001b[1;33m\u001b[0m\u001b[1;33m\u001b[0m\u001b[0m\n\u001b[0;32m    259\u001b[0m                                             \u001b[0mstitch_threshold\u001b[0m\u001b[1;33m=\u001b[0m\u001b[0mstitch_threshold\u001b[0m\u001b[1;33m,\u001b[0m\u001b[1;33m\u001b[0m\u001b[1;33m\u001b[0m\u001b[0m\n\u001b[1;32m--> 260\u001b[1;33m                                             model_loaded=model_loaded)\n\u001b[0m\u001b[0;32m    261\u001b[0m         \u001b[0mmodels_logger\u001b[0m\u001b[1;33m.\u001b[0m\u001b[0minfo\u001b[0m\u001b[1;33m(\u001b[0m\u001b[1;34m'>>>> TOTAL TIME %0.2f sec'\u001b[0m\u001b[1;33m%\u001b[0m\u001b[1;33m(\u001b[0m\u001b[0mtime\u001b[0m\u001b[1;33m.\u001b[0m\u001b[0mtime\u001b[0m\u001b[1;33m(\u001b[0m\u001b[1;33m)\u001b[0m\u001b[1;33m-\u001b[0m\u001b[0mtic0\u001b[0m\u001b[1;33m)\u001b[0m\u001b[1;33m)\u001b[0m\u001b[1;33m\u001b[0m\u001b[1;33m\u001b[0m\u001b[0m\n\u001b[0;32m    262\u001b[0m \u001b[1;33m\u001b[0m\u001b[0m\n",
      "\u001b[1;32m~\\.conda\\envs\\livecell_GPU_segment\\lib\\site-packages\\cellpose\\models.py\u001b[0m in \u001b[0;36meval\u001b[1;34m(self, x, batch_size, channels, channel_axis, z_axis, normalize, invert, rescale, diameter, do_3D, anisotropy, net_avg, augment, tile, tile_overlap, resample, interp, flow_threshold, cellprob_threshold, compute_masks, min_size, stitch_threshold, progress, loop_run, model_loaded)\u001b[0m\n\u001b[0;32m    565\u001b[0m                                                           \u001b[0mdo_3D\u001b[0m\u001b[1;33m=\u001b[0m\u001b[0mdo_3D\u001b[0m\u001b[1;33m,\u001b[0m\u001b[1;33m\u001b[0m\u001b[1;33m\u001b[0m\u001b[0m\n\u001b[0;32m    566\u001b[0m                                                           \u001b[0manisotropy\u001b[0m\u001b[1;33m=\u001b[0m\u001b[0manisotropy\u001b[0m\u001b[1;33m,\u001b[0m\u001b[1;33m\u001b[0m\u001b[1;33m\u001b[0m\u001b[0m\n\u001b[1;32m--> 567\u001b[1;33m                                                           \u001b[0mstitch_threshold\u001b[0m\u001b[1;33m=\u001b[0m\u001b[0mstitch_threshold\u001b[0m\u001b[1;33m,\u001b[0m\u001b[1;33m\u001b[0m\u001b[1;33m\u001b[0m\u001b[0m\n\u001b[0m\u001b[0;32m    568\u001b[0m                                                           )\n\u001b[0;32m    569\u001b[0m \u001b[1;33m\u001b[0m\u001b[0m\n",
      "\u001b[1;32m~\\.conda\\envs\\livecell_GPU_segment\\lib\\site-packages\\cellpose\\models.py\u001b[0m in \u001b[0;36m_run_cp\u001b[1;34m(self, x, compute_masks, normalize, invert, rescale, net_avg, resample, augment, tile, tile_overlap, cellprob_threshold, flow_threshold, min_size, interp, anisotropy, do_3D, stitch_threshold)\u001b[0m\n\u001b[0;32m    651\u001b[0m                     outputs = dynamics.compute_masks(dP[:,i], cellprob[i], niter=niter, cellprob_threshold=cellprob_threshold,\n\u001b[0;32m    652\u001b[0m                                                          \u001b[0mflow_threshold\u001b[0m\u001b[1;33m=\u001b[0m\u001b[0mflow_threshold\u001b[0m\u001b[1;33m,\u001b[0m \u001b[0minterp\u001b[0m\u001b[1;33m=\u001b[0m\u001b[0minterp\u001b[0m\u001b[1;33m,\u001b[0m \u001b[0mresize\u001b[0m\u001b[1;33m=\u001b[0m\u001b[0mresize\u001b[0m\u001b[1;33m,\u001b[0m\u001b[1;33m\u001b[0m\u001b[1;33m\u001b[0m\u001b[0m\n\u001b[1;32m--> 653\u001b[1;33m                                                          use_gpu=self.gpu, device=self.device)\n\u001b[0m\u001b[0;32m    654\u001b[0m                     \u001b[0mmasks\u001b[0m\u001b[1;33m.\u001b[0m\u001b[0mappend\u001b[0m\u001b[1;33m(\u001b[0m\u001b[0moutputs\u001b[0m\u001b[1;33m[\u001b[0m\u001b[1;36m0\u001b[0m\u001b[1;33m]\u001b[0m\u001b[1;33m)\u001b[0m\u001b[1;33m\u001b[0m\u001b[1;33m\u001b[0m\u001b[0m\n\u001b[0;32m    655\u001b[0m                     \u001b[0mp\u001b[0m\u001b[1;33m.\u001b[0m\u001b[0mappend\u001b[0m\u001b[1;33m(\u001b[0m\u001b[0moutputs\u001b[0m\u001b[1;33m[\u001b[0m\u001b[1;36m1\u001b[0m\u001b[1;33m]\u001b[0m\u001b[1;33m)\u001b[0m\u001b[1;33m\u001b[0m\u001b[1;33m\u001b[0m\u001b[0m\n",
      "\u001b[1;32m~\\.conda\\envs\\livecell_GPU_segment\\lib\\site-packages\\cellpose\\dynamics.py\u001b[0m in \u001b[0;36mcompute_masks\u001b[1;34m(dP, cellprob, p, niter, cellprob_threshold, flow_threshold, interp, do_3D, min_size, resize, use_gpu, device)\u001b[0m\n\u001b[0;32m    724\u001b[0m             \u001b[1;32mif\u001b[0m \u001b[0mmask\u001b[0m\u001b[1;33m.\u001b[0m\u001b[0mmax\u001b[0m\u001b[1;33m(\u001b[0m\u001b[1;33m)\u001b[0m\u001b[1;33m>\u001b[0m\u001b[1;36m0\u001b[0m \u001b[1;32mand\u001b[0m \u001b[0mflow_threshold\u001b[0m \u001b[1;32mis\u001b[0m \u001b[1;32mnot\u001b[0m \u001b[1;32mNone\u001b[0m \u001b[1;32mand\u001b[0m \u001b[0mflow_threshold\u001b[0m \u001b[1;33m>\u001b[0m \u001b[1;36m0\u001b[0m\u001b[1;33m:\u001b[0m\u001b[1;33m\u001b[0m\u001b[1;33m\u001b[0m\u001b[0m\n\u001b[0;32m    725\u001b[0m                 \u001b[1;31m# make sure labels are unique at output of get_masks\u001b[0m\u001b[1;33m\u001b[0m\u001b[1;33m\u001b[0m\u001b[1;33m\u001b[0m\u001b[0m\n\u001b[1;32m--> 726\u001b[1;33m                 \u001b[0mmask\u001b[0m \u001b[1;33m=\u001b[0m \u001b[0mremove_bad_flow_masks\u001b[0m\u001b[1;33m(\u001b[0m\u001b[0mmask\u001b[0m\u001b[1;33m,\u001b[0m \u001b[0mdP\u001b[0m\u001b[1;33m,\u001b[0m \u001b[0mthreshold\u001b[0m\u001b[1;33m=\u001b[0m\u001b[0mflow_threshold\u001b[0m\u001b[1;33m,\u001b[0m \u001b[0muse_gpu\u001b[0m\u001b[1;33m=\u001b[0m\u001b[0muse_gpu\u001b[0m\u001b[1;33m,\u001b[0m \u001b[0mdevice\u001b[0m\u001b[1;33m=\u001b[0m\u001b[0mdevice\u001b[0m\u001b[1;33m)\u001b[0m\u001b[1;33m\u001b[0m\u001b[1;33m\u001b[0m\u001b[0m\n\u001b[0m\u001b[0;32m    727\u001b[0m \u001b[1;33m\u001b[0m\u001b[0m\n\u001b[0;32m    728\u001b[0m         \u001b[1;32mif\u001b[0m \u001b[0mresize\u001b[0m \u001b[1;32mis\u001b[0m \u001b[1;32mnot\u001b[0m \u001b[1;32mNone\u001b[0m\u001b[1;33m:\u001b[0m\u001b[1;33m\u001b[0m\u001b[1;33m\u001b[0m\u001b[0m\n",
      "\u001b[1;32m~\\.conda\\envs\\livecell_GPU_segment\\lib\\site-packages\\cellpose\\dynamics.py\u001b[0m in \u001b[0;36mremove_bad_flow_masks\u001b[1;34m(masks, flows, threshold, use_gpu, device)\u001b[0m\n\u001b[0;32m    579\u001b[0m \u001b[1;33m\u001b[0m\u001b[0m\n\u001b[0;32m    580\u001b[0m     \"\"\"\n\u001b[1;32m--> 581\u001b[1;33m     \u001b[0mmerrors\u001b[0m\u001b[1;33m,\u001b[0m \u001b[0m_\u001b[0m \u001b[1;33m=\u001b[0m \u001b[0mmetrics\u001b[0m\u001b[1;33m.\u001b[0m\u001b[0mflow_error\u001b[0m\u001b[1;33m(\u001b[0m\u001b[0mmasks\u001b[0m\u001b[1;33m,\u001b[0m \u001b[0mflows\u001b[0m\u001b[1;33m,\u001b[0m \u001b[0muse_gpu\u001b[0m\u001b[1;33m,\u001b[0m \u001b[0mdevice\u001b[0m\u001b[1;33m)\u001b[0m\u001b[1;33m\u001b[0m\u001b[1;33m\u001b[0m\u001b[0m\n\u001b[0m\u001b[0;32m    582\u001b[0m     \u001b[0mbadi\u001b[0m \u001b[1;33m=\u001b[0m \u001b[1;36m1\u001b[0m\u001b[1;33m+\u001b[0m\u001b[1;33m(\u001b[0m\u001b[0mmerrors\u001b[0m\u001b[1;33m>\u001b[0m\u001b[0mthreshold\u001b[0m\u001b[1;33m)\u001b[0m\u001b[1;33m.\u001b[0m\u001b[0mnonzero\u001b[0m\u001b[1;33m(\u001b[0m\u001b[1;33m)\u001b[0m\u001b[1;33m[\u001b[0m\u001b[1;36m0\u001b[0m\u001b[1;33m]\u001b[0m\u001b[1;33m\u001b[0m\u001b[1;33m\u001b[0m\u001b[0m\n\u001b[0;32m    583\u001b[0m     \u001b[0mmasks\u001b[0m\u001b[1;33m[\u001b[0m\u001b[0mnp\u001b[0m\u001b[1;33m.\u001b[0m\u001b[0misin\u001b[0m\u001b[1;33m(\u001b[0m\u001b[0mmasks\u001b[0m\u001b[1;33m,\u001b[0m \u001b[0mbadi\u001b[0m\u001b[1;33m)\u001b[0m\u001b[1;33m]\u001b[0m \u001b[1;33m=\u001b[0m \u001b[1;36m0\u001b[0m\u001b[1;33m\u001b[0m\u001b[1;33m\u001b[0m\u001b[0m\n",
      "\u001b[1;32m~\\.conda\\envs\\livecell_GPU_segment\\lib\\site-packages\\cellpose\\metrics.py\u001b[0m in \u001b[0;36mflow_error\u001b[1;34m(maski, dP_net, use_gpu, device)\u001b[0m\n\u001b[0;32m    280\u001b[0m \u001b[1;33m\u001b[0m\u001b[0m\n\u001b[0;32m    281\u001b[0m     \u001b[1;31m# flows predicted from estimated masks\u001b[0m\u001b[1;33m\u001b[0m\u001b[1;33m\u001b[0m\u001b[1;33m\u001b[0m\u001b[0m\n\u001b[1;32m--> 282\u001b[1;33m     \u001b[0mdP_masks\u001b[0m \u001b[1;33m=\u001b[0m \u001b[0mdynamics\u001b[0m\u001b[1;33m.\u001b[0m\u001b[0mmasks_to_flows\u001b[0m\u001b[1;33m(\u001b[0m\u001b[0mmaski\u001b[0m\u001b[1;33m,\u001b[0m \u001b[0muse_gpu\u001b[0m\u001b[1;33m=\u001b[0m\u001b[0muse_gpu\u001b[0m\u001b[1;33m,\u001b[0m \u001b[0mdevice\u001b[0m\u001b[1;33m=\u001b[0m\u001b[0mdevice\u001b[0m\u001b[1;33m)\u001b[0m\u001b[1;33m\u001b[0m\u001b[1;33m\u001b[0m\u001b[0m\n\u001b[0m\u001b[0;32m    283\u001b[0m     \u001b[1;31m# difference between predicted flows vs mask flows\u001b[0m\u001b[1;33m\u001b[0m\u001b[1;33m\u001b[0m\u001b[1;33m\u001b[0m\u001b[0m\n\u001b[0;32m    284\u001b[0m     \u001b[0mflow_errors\u001b[0m\u001b[1;33m=\u001b[0m\u001b[0mnp\u001b[0m\u001b[1;33m.\u001b[0m\u001b[0mzeros\u001b[0m\u001b[1;33m(\u001b[0m\u001b[0mmaski\u001b[0m\u001b[1;33m.\u001b[0m\u001b[0mmax\u001b[0m\u001b[1;33m(\u001b[0m\u001b[1;33m)\u001b[0m\u001b[1;33m)\u001b[0m\u001b[1;33m\u001b[0m\u001b[1;33m\u001b[0m\u001b[0m\n",
      "\u001b[1;32m~\\.conda\\envs\\livecell_GPU_segment\\lib\\site-packages\\cellpose\\dynamics.py\u001b[0m in \u001b[0;36mmasks_to_flows\u001b[1;34m(masks, use_gpu, device)\u001b[0m\n\u001b[0;32m    276\u001b[0m         \u001b[1;32mreturn\u001b[0m \u001b[0mmu\u001b[0m\u001b[1;33m\u001b[0m\u001b[1;33m\u001b[0m\u001b[0m\n\u001b[0;32m    277\u001b[0m     \u001b[1;32melif\u001b[0m \u001b[0mmasks\u001b[0m\u001b[1;33m.\u001b[0m\u001b[0mndim\u001b[0m\u001b[1;33m==\u001b[0m\u001b[1;36m2\u001b[0m\u001b[1;33m:\u001b[0m\u001b[1;33m\u001b[0m\u001b[1;33m\u001b[0m\u001b[0m\n\u001b[1;32m--> 278\u001b[1;33m         \u001b[0mmu\u001b[0m\u001b[1;33m,\u001b[0m \u001b[0mmu_c\u001b[0m \u001b[1;33m=\u001b[0m \u001b[0mmasks_to_flows_device\u001b[0m\u001b[1;33m(\u001b[0m\u001b[0mmasks\u001b[0m\u001b[1;33m,\u001b[0m \u001b[0mdevice\u001b[0m\u001b[1;33m=\u001b[0m\u001b[0mdevice\u001b[0m\u001b[1;33m)\u001b[0m\u001b[1;33m\u001b[0m\u001b[1;33m\u001b[0m\u001b[0m\n\u001b[0m\u001b[0;32m    279\u001b[0m         \u001b[1;32mreturn\u001b[0m \u001b[0mmu\u001b[0m\u001b[1;33m\u001b[0m\u001b[1;33m\u001b[0m\u001b[0m\n\u001b[0;32m    280\u001b[0m \u001b[1;33m\u001b[0m\u001b[0m\n",
      "\u001b[1;32m~\\.conda\\envs\\livecell_GPU_segment\\lib\\site-packages\\cellpose\\dynamics.py\u001b[0m in \u001b[0;36mmasks_to_flows_gpu\u001b[1;34m(masks, device)\u001b[0m\n\u001b[0;32m    152\u001b[0m     \u001b[1;31m# run diffusion\u001b[0m\u001b[1;33m\u001b[0m\u001b[1;33m\u001b[0m\u001b[1;33m\u001b[0m\u001b[0m\n\u001b[0;32m    153\u001b[0m     mu = _extend_centers_gpu(neighbors, centers, isneighbor, Ly, Lx, \n\u001b[1;32m--> 154\u001b[1;33m                              n_iter=n_iter, device=device)\n\u001b[0m\u001b[0;32m    155\u001b[0m \u001b[1;33m\u001b[0m\u001b[0m\n\u001b[0;32m    156\u001b[0m     \u001b[1;31m# normalize\u001b[0m\u001b[1;33m\u001b[0m\u001b[1;33m\u001b[0m\u001b[1;33m\u001b[0m\u001b[0m\n",
      "\u001b[1;32m~\\.conda\\envs\\livecell_GPU_segment\\lib\\site-packages\\cellpose\\dynamics.py\u001b[0m in \u001b[0;36m_extend_centers_gpu\u001b[1;34m(neighbors, centers, isneighbor, Ly, Lx, n_iter, device)\u001b[0m\n\u001b[0;32m     79\u001b[0m         \u001b[0mT\u001b[0m\u001b[1;33m[\u001b[0m\u001b[1;33m:\u001b[0m\u001b[1;33m,\u001b[0m \u001b[0mpt\u001b[0m\u001b[1;33m[\u001b[0m\u001b[1;36m0\u001b[0m\u001b[1;33m,\u001b[0m\u001b[1;33m:\u001b[0m\u001b[1;33m,\u001b[0m\u001b[1;36m0\u001b[0m\u001b[1;33m]\u001b[0m\u001b[1;33m,\u001b[0m \u001b[0mpt\u001b[0m\u001b[1;33m[\u001b[0m\u001b[1;36m0\u001b[0m\u001b[1;33m,\u001b[0m\u001b[1;33m:\u001b[0m\u001b[1;33m,\u001b[0m\u001b[1;36m1\u001b[0m\u001b[1;33m]\u001b[0m\u001b[1;33m]\u001b[0m \u001b[1;33m=\u001b[0m \u001b[0mTneigh\u001b[0m\u001b[1;33m.\u001b[0m\u001b[0mmean\u001b[0m\u001b[1;33m(\u001b[0m\u001b[0maxis\u001b[0m\u001b[1;33m=\u001b[0m\u001b[1;36m1\u001b[0m\u001b[1;33m)\u001b[0m\u001b[1;33m\u001b[0m\u001b[1;33m\u001b[0m\u001b[0m\n\u001b[0;32m     80\u001b[0m     \u001b[1;32mdel\u001b[0m \u001b[0mmeds\u001b[0m\u001b[1;33m,\u001b[0m \u001b[0misneigh\u001b[0m\u001b[1;33m,\u001b[0m \u001b[0mTneigh\u001b[0m\u001b[1;33m\u001b[0m\u001b[1;33m\u001b[0m\u001b[0m\n\u001b[1;32m---> 81\u001b[1;33m     \u001b[0mT\u001b[0m \u001b[1;33m=\u001b[0m \u001b[0mtorch\u001b[0m\u001b[1;33m.\u001b[0m\u001b[0mlog\u001b[0m\u001b[1;33m(\u001b[0m\u001b[1;36m1.\u001b[0m\u001b[1;33m+\u001b[0m \u001b[0mT\u001b[0m\u001b[1;33m)\u001b[0m\u001b[1;33m\u001b[0m\u001b[1;33m\u001b[0m\u001b[0m\n\u001b[0m\u001b[0;32m     82\u001b[0m     \u001b[1;31m# gradient positions\u001b[0m\u001b[1;33m\u001b[0m\u001b[1;33m\u001b[0m\u001b[1;33m\u001b[0m\u001b[0m\n\u001b[0;32m     83\u001b[0m     \u001b[0mgrads\u001b[0m \u001b[1;33m=\u001b[0m \u001b[0mT\u001b[0m\u001b[1;33m[\u001b[0m\u001b[1;33m:\u001b[0m\u001b[1;33m,\u001b[0m \u001b[0mpt\u001b[0m\u001b[1;33m[\u001b[0m\u001b[1;33m[\u001b[0m\u001b[1;36m2\u001b[0m\u001b[1;33m,\u001b[0m\u001b[1;36m1\u001b[0m\u001b[1;33m,\u001b[0m\u001b[1;36m4\u001b[0m\u001b[1;33m,\u001b[0m\u001b[1;36m3\u001b[0m\u001b[1;33m]\u001b[0m\u001b[1;33m,\u001b[0m\u001b[1;33m:\u001b[0m\u001b[1;33m,\u001b[0m\u001b[1;36m0\u001b[0m\u001b[1;33m]\u001b[0m\u001b[1;33m,\u001b[0m \u001b[0mpt\u001b[0m\u001b[1;33m[\u001b[0m\u001b[1;33m[\u001b[0m\u001b[1;36m2\u001b[0m\u001b[1;33m,\u001b[0m\u001b[1;36m1\u001b[0m\u001b[1;33m,\u001b[0m\u001b[1;36m4\u001b[0m\u001b[1;33m,\u001b[0m\u001b[1;36m3\u001b[0m\u001b[1;33m]\u001b[0m\u001b[1;33m,\u001b[0m\u001b[1;33m:\u001b[0m\u001b[1;33m,\u001b[0m\u001b[1;36m1\u001b[0m\u001b[1;33m]\u001b[0m\u001b[1;33m]\u001b[0m\u001b[1;33m\u001b[0m\u001b[1;33m\u001b[0m\u001b[0m\n",
      "\u001b[1;31mRuntimeError\u001b[0m: CUDA out of memory. Tried to allocate 1.35 GiB (GPU 0; 4.00 GiB total capacity; 2.08 GiB already allocated; 0 bytes free; 2.72 GiB reserved in total by PyTorch) If reserved memory is >> allocated memory try setting max_split_size_mb to avoid fragmentation.  See documentation for Memory Management and PYTORCH_CUDA_ALLOC_CONF"
     ]
    }
   ],
   "source": [
    "# loop for segmentation - This is the default, and assumes you can load the entire image into memory at once\n",
    "\n",
    "frames_num = 64\n",
    "for i in range(0,frames_num): # it's a small example - just 4 first frames\n",
    "    \n",
    "    # get an image\n",
    "    im_frame = im[i,:,:]\n",
    "\n",
    "    # segment the right plane\n",
    "    labels, _, _, _ = model.eval(im_frame, diameter=30, channels=[0,0])\n",
    "\n",
    "    # save segmentation\n",
    "    save_dir = os.path.join(exp_dir,'segmentation')\n",
    "    save_file = file_name[:-4]+f'_{str(i).zfill(3)}_label.png'\n",
    "    save_path = os.path.join(save_dir,save_file)\n",
    "    imsave(save_path,labels.astype('uint16')) "
   ]
  },
  {
   "cell_type": "code",
   "execution_count": 11,
   "id": "bc17f8f6",
   "metadata": {},
   "outputs": [
    {
     "name": "stderr",
     "output_type": "stream",
     "text": [
      "C:\\Users\\gases\\.conda\\envs\\livecell_GPU_segment\\lib\\site-packages\\ipykernel_launcher.py:41: UserWarning: Z:\\Garrett\\Livecell\\072723_50hr_20uM_TBHP\\segmentation\\WellB02_ChannelCFP_Seq0000 - Stitched_128_188_000_label.png is a low contrast image\n",
      "C:\\Users\\gases\\.conda\\envs\\livecell_GPU_segment\\lib\\site-packages\\ipykernel_launcher.py:41: UserWarning: Z:\\Garrett\\Livecell\\072723_50hr_20uM_TBHP\\segmentation\\WellB02_ChannelCFP_Seq0000 - Stitched_128_188_001_label.png is a low contrast image\n",
      "C:\\Users\\gases\\.conda\\envs\\livecell_GPU_segment\\lib\\site-packages\\ipykernel_launcher.py:41: UserWarning: Z:\\Garrett\\Livecell\\072723_50hr_20uM_TBHP\\segmentation\\WellB02_ChannelCFP_Seq0000 - Stitched_128_188_002_label.png is a low contrast image\n",
      "C:\\Users\\gases\\.conda\\envs\\livecell_GPU_segment\\lib\\site-packages\\ipykernel_launcher.py:41: UserWarning: Z:\\Garrett\\Livecell\\072723_50hr_20uM_TBHP\\segmentation\\WellB02_ChannelCFP_Seq0000 - Stitched_128_188_003_label.png is a low contrast image\n",
      "C:\\Users\\gases\\.conda\\envs\\livecell_GPU_segment\\lib\\site-packages\\ipykernel_launcher.py:41: UserWarning: Z:\\Garrett\\Livecell\\072723_50hr_20uM_TBHP\\segmentation\\WellB02_ChannelCFP_Seq0000 - Stitched_128_188_004_label.png is a low contrast image\n",
      "C:\\Users\\gases\\.conda\\envs\\livecell_GPU_segment\\lib\\site-packages\\ipykernel_launcher.py:41: UserWarning: Z:\\Garrett\\Livecell\\072723_50hr_20uM_TBHP\\segmentation\\WellB02_ChannelCFP_Seq0000 - Stitched_128_188_005_label.png is a low contrast image\n",
      "C:\\Users\\gases\\.conda\\envs\\livecell_GPU_segment\\lib\\site-packages\\ipykernel_launcher.py:41: UserWarning: Z:\\Garrett\\Livecell\\072723_50hr_20uM_TBHP\\segmentation\\WellB02_ChannelCFP_Seq0000 - Stitched_128_188_006_label.png is a low contrast image\n",
      "C:\\Users\\gases\\.conda\\envs\\livecell_GPU_segment\\lib\\site-packages\\ipykernel_launcher.py:41: UserWarning: Z:\\Garrett\\Livecell\\072723_50hr_20uM_TBHP\\segmentation\\WellB02_ChannelCFP_Seq0000 - Stitched_128_188_007_label.png is a low contrast image\n",
      "C:\\Users\\gases\\.conda\\envs\\livecell_GPU_segment\\lib\\site-packages\\ipykernel_launcher.py:41: UserWarning: Z:\\Garrett\\Livecell\\072723_50hr_20uM_TBHP\\segmentation\\WellB02_ChannelCFP_Seq0000 - Stitched_128_188_008_label.png is a low contrast image\n",
      "C:\\Users\\gases\\.conda\\envs\\livecell_GPU_segment\\lib\\site-packages\\ipykernel_launcher.py:41: UserWarning: Z:\\Garrett\\Livecell\\072723_50hr_20uM_TBHP\\segmentation\\WellB02_ChannelCFP_Seq0000 - Stitched_128_188_009_label.png is a low contrast image\n",
      "C:\\Users\\gases\\.conda\\envs\\livecell_GPU_segment\\lib\\site-packages\\ipykernel_launcher.py:41: UserWarning: Z:\\Garrett\\Livecell\\072723_50hr_20uM_TBHP\\segmentation\\WellB02_ChannelCFP_Seq0000 - Stitched_128_188_010_label.png is a low contrast image\n",
      "C:\\Users\\gases\\.conda\\envs\\livecell_GPU_segment\\lib\\site-packages\\ipykernel_launcher.py:41: UserWarning: Z:\\Garrett\\Livecell\\072723_50hr_20uM_TBHP\\segmentation\\WellB02_ChannelCFP_Seq0000 - Stitched_128_188_011_label.png is a low contrast image\n",
      "C:\\Users\\gases\\.conda\\envs\\livecell_GPU_segment\\lib\\site-packages\\ipykernel_launcher.py:41: UserWarning: Z:\\Garrett\\Livecell\\072723_50hr_20uM_TBHP\\segmentation\\WellB02_ChannelCFP_Seq0000 - Stitched_128_188_012_label.png is a low contrast image\n",
      "C:\\Users\\gases\\.conda\\envs\\livecell_GPU_segment\\lib\\site-packages\\ipykernel_launcher.py:41: UserWarning: Z:\\Garrett\\Livecell\\072723_50hr_20uM_TBHP\\segmentation\\WellB02_ChannelCFP_Seq0000 - Stitched_128_188_013_label.png is a low contrast image\n",
      "C:\\Users\\gases\\.conda\\envs\\livecell_GPU_segment\\lib\\site-packages\\ipykernel_launcher.py:41: UserWarning: Z:\\Garrett\\Livecell\\072723_50hr_20uM_TBHP\\segmentation\\WellB02_ChannelCFP_Seq0000 - Stitched_128_188_014_label.png is a low contrast image\n",
      "C:\\Users\\gases\\.conda\\envs\\livecell_GPU_segment\\lib\\site-packages\\ipykernel_launcher.py:41: UserWarning: Z:\\Garrett\\Livecell\\072723_50hr_20uM_TBHP\\segmentation\\WellB02_ChannelCFP_Seq0000 - Stitched_128_188_015_label.png is a low contrast image\n",
      "C:\\Users\\gases\\.conda\\envs\\livecell_GPU_segment\\lib\\site-packages\\ipykernel_launcher.py:41: UserWarning: Z:\\Garrett\\Livecell\\072723_50hr_20uM_TBHP\\segmentation\\WellB02_ChannelCFP_Seq0000 - Stitched_128_188_016_label.png is a low contrast image\n",
      "C:\\Users\\gases\\.conda\\envs\\livecell_GPU_segment\\lib\\site-packages\\ipykernel_launcher.py:41: UserWarning: Z:\\Garrett\\Livecell\\072723_50hr_20uM_TBHP\\segmentation\\WellB02_ChannelCFP_Seq0000 - Stitched_128_188_017_label.png is a low contrast image\n",
      "C:\\Users\\gases\\.conda\\envs\\livecell_GPU_segment\\lib\\site-packages\\ipykernel_launcher.py:41: UserWarning: Z:\\Garrett\\Livecell\\072723_50hr_20uM_TBHP\\segmentation\\WellB02_ChannelCFP_Seq0000 - Stitched_128_188_018_label.png is a low contrast image\n",
      "C:\\Users\\gases\\.conda\\envs\\livecell_GPU_segment\\lib\\site-packages\\ipykernel_launcher.py:41: UserWarning: Z:\\Garrett\\Livecell\\072723_50hr_20uM_TBHP\\segmentation\\WellB02_ChannelCFP_Seq0000 - Stitched_128_188_019_label.png is a low contrast image\n",
      "C:\\Users\\gases\\.conda\\envs\\livecell_GPU_segment\\lib\\site-packages\\ipykernel_launcher.py:41: UserWarning: Z:\\Garrett\\Livecell\\072723_50hr_20uM_TBHP\\segmentation\\WellB02_ChannelCFP_Seq0000 - Stitched_128_188_020_label.png is a low contrast image\n",
      "C:\\Users\\gases\\.conda\\envs\\livecell_GPU_segment\\lib\\site-packages\\ipykernel_launcher.py:41: UserWarning: Z:\\Garrett\\Livecell\\072723_50hr_20uM_TBHP\\segmentation\\WellB02_ChannelCFP_Seq0000 - Stitched_128_188_021_label.png is a low contrast image\n",
      "C:\\Users\\gases\\.conda\\envs\\livecell_GPU_segment\\lib\\site-packages\\ipykernel_launcher.py:41: UserWarning: Z:\\Garrett\\Livecell\\072723_50hr_20uM_TBHP\\segmentation\\WellB02_ChannelCFP_Seq0000 - Stitched_128_188_022_label.png is a low contrast image\n",
      "C:\\Users\\gases\\.conda\\envs\\livecell_GPU_segment\\lib\\site-packages\\ipykernel_launcher.py:41: UserWarning: Z:\\Garrett\\Livecell\\072723_50hr_20uM_TBHP\\segmentation\\WellB02_ChannelCFP_Seq0000 - Stitched_128_188_023_label.png is a low contrast image\n",
      "C:\\Users\\gases\\.conda\\envs\\livecell_GPU_segment\\lib\\site-packages\\ipykernel_launcher.py:41: UserWarning: Z:\\Garrett\\Livecell\\072723_50hr_20uM_TBHP\\segmentation\\WellB02_ChannelCFP_Seq0000 - Stitched_128_188_024_label.png is a low contrast image\n",
      "C:\\Users\\gases\\.conda\\envs\\livecell_GPU_segment\\lib\\site-packages\\ipykernel_launcher.py:41: UserWarning: Z:\\Garrett\\Livecell\\072723_50hr_20uM_TBHP\\segmentation\\WellB02_ChannelCFP_Seq0000 - Stitched_128_188_025_label.png is a low contrast image\n",
      "C:\\Users\\gases\\.conda\\envs\\livecell_GPU_segment\\lib\\site-packages\\ipykernel_launcher.py:41: UserWarning: Z:\\Garrett\\Livecell\\072723_50hr_20uM_TBHP\\segmentation\\WellB02_ChannelCFP_Seq0000 - Stitched_128_188_026_label.png is a low contrast image\n",
      "C:\\Users\\gases\\.conda\\envs\\livecell_GPU_segment\\lib\\site-packages\\ipykernel_launcher.py:41: UserWarning: Z:\\Garrett\\Livecell\\072723_50hr_20uM_TBHP\\segmentation\\WellB02_ChannelCFP_Seq0000 - Stitched_128_188_027_label.png is a low contrast image\n",
      "C:\\Users\\gases\\.conda\\envs\\livecell_GPU_segment\\lib\\site-packages\\ipykernel_launcher.py:41: UserWarning: Z:\\Garrett\\Livecell\\072723_50hr_20uM_TBHP\\segmentation\\WellB02_ChannelCFP_Seq0000 - Stitched_128_188_028_label.png is a low contrast image\n",
      "C:\\Users\\gases\\.conda\\envs\\livecell_GPU_segment\\lib\\site-packages\\ipykernel_launcher.py:41: UserWarning: Z:\\Garrett\\Livecell\\072723_50hr_20uM_TBHP\\segmentation\\WellB02_ChannelCFP_Seq0000 - Stitched_128_188_029_label.png is a low contrast image\n",
      "C:\\Users\\gases\\.conda\\envs\\livecell_GPU_segment\\lib\\site-packages\\ipykernel_launcher.py:41: UserWarning: Z:\\Garrett\\Livecell\\072723_50hr_20uM_TBHP\\segmentation\\WellB02_ChannelCFP_Seq0000 - Stitched_128_188_030_label.png is a low contrast image\n",
      "C:\\Users\\gases\\.conda\\envs\\livecell_GPU_segment\\lib\\site-packages\\ipykernel_launcher.py:41: UserWarning: Z:\\Garrett\\Livecell\\072723_50hr_20uM_TBHP\\segmentation\\WellB02_ChannelCFP_Seq0000 - Stitched_128_188_031_label.png is a low contrast image\n",
      "C:\\Users\\gases\\.conda\\envs\\livecell_GPU_segment\\lib\\site-packages\\ipykernel_launcher.py:41: UserWarning: Z:\\Garrett\\Livecell\\072723_50hr_20uM_TBHP\\segmentation\\WellB02_ChannelCFP_Seq0000 - Stitched_128_188_032_label.png is a low contrast image\n",
      "C:\\Users\\gases\\.conda\\envs\\livecell_GPU_segment\\lib\\site-packages\\ipykernel_launcher.py:41: UserWarning: Z:\\Garrett\\Livecell\\072723_50hr_20uM_TBHP\\segmentation\\WellB02_ChannelCFP_Seq0000 - Stitched_128_188_033_label.png is a low contrast image\n"
     ]
    },
    {
     "name": "stderr",
     "output_type": "stream",
     "text": [
      "C:\\Users\\gases\\.conda\\envs\\livecell_GPU_segment\\lib\\site-packages\\ipykernel_launcher.py:41: UserWarning: Z:\\Garrett\\Livecell\\072723_50hr_20uM_TBHP\\segmentation\\WellB02_ChannelCFP_Seq0000 - Stitched_128_188_034_label.png is a low contrast image\n",
      "C:\\Users\\gases\\.conda\\envs\\livecell_GPU_segment\\lib\\site-packages\\ipykernel_launcher.py:41: UserWarning: Z:\\Garrett\\Livecell\\072723_50hr_20uM_TBHP\\segmentation\\WellB02_ChannelCFP_Seq0000 - Stitched_128_188_035_label.png is a low contrast image\n",
      "C:\\Users\\gases\\.conda\\envs\\livecell_GPU_segment\\lib\\site-packages\\ipykernel_launcher.py:41: UserWarning: Z:\\Garrett\\Livecell\\072723_50hr_20uM_TBHP\\segmentation\\WellB02_ChannelCFP_Seq0000 - Stitched_128_188_036_label.png is a low contrast image\n",
      "C:\\Users\\gases\\.conda\\envs\\livecell_GPU_segment\\lib\\site-packages\\ipykernel_launcher.py:41: UserWarning: Z:\\Garrett\\Livecell\\072723_50hr_20uM_TBHP\\segmentation\\WellB02_ChannelCFP_Seq0000 - Stitched_128_188_037_label.png is a low contrast image\n",
      "C:\\Users\\gases\\.conda\\envs\\livecell_GPU_segment\\lib\\site-packages\\ipykernel_launcher.py:41: UserWarning: Z:\\Garrett\\Livecell\\072723_50hr_20uM_TBHP\\segmentation\\WellB02_ChannelCFP_Seq0000 - Stitched_128_188_038_label.png is a low contrast image\n",
      "C:\\Users\\gases\\.conda\\envs\\livecell_GPU_segment\\lib\\site-packages\\ipykernel_launcher.py:41: UserWarning: Z:\\Garrett\\Livecell\\072723_50hr_20uM_TBHP\\segmentation\\WellB02_ChannelCFP_Seq0000 - Stitched_128_188_039_label.png is a low contrast image\n",
      "C:\\Users\\gases\\.conda\\envs\\livecell_GPU_segment\\lib\\site-packages\\ipykernel_launcher.py:41: UserWarning: Z:\\Garrett\\Livecell\\072723_50hr_20uM_TBHP\\segmentation\\WellB02_ChannelCFP_Seq0000 - Stitched_128_188_040_label.png is a low contrast image\n",
      "C:\\Users\\gases\\.conda\\envs\\livecell_GPU_segment\\lib\\site-packages\\ipykernel_launcher.py:41: UserWarning: Z:\\Garrett\\Livecell\\072723_50hr_20uM_TBHP\\segmentation\\WellB02_ChannelCFP_Seq0000 - Stitched_128_188_041_label.png is a low contrast image\n",
      "C:\\Users\\gases\\.conda\\envs\\livecell_GPU_segment\\lib\\site-packages\\ipykernel_launcher.py:41: UserWarning: Z:\\Garrett\\Livecell\\072723_50hr_20uM_TBHP\\segmentation\\WellB02_ChannelCFP_Seq0000 - Stitched_128_188_042_label.png is a low contrast image\n",
      "C:\\Users\\gases\\.conda\\envs\\livecell_GPU_segment\\lib\\site-packages\\ipykernel_launcher.py:41: UserWarning: Z:\\Garrett\\Livecell\\072723_50hr_20uM_TBHP\\segmentation\\WellB02_ChannelCFP_Seq0000 - Stitched_128_188_043_label.png is a low contrast image\n",
      "C:\\Users\\gases\\.conda\\envs\\livecell_GPU_segment\\lib\\site-packages\\ipykernel_launcher.py:41: UserWarning: Z:\\Garrett\\Livecell\\072723_50hr_20uM_TBHP\\segmentation\\WellB02_ChannelCFP_Seq0000 - Stitched_128_188_044_label.png is a low contrast image\n",
      "C:\\Users\\gases\\.conda\\envs\\livecell_GPU_segment\\lib\\site-packages\\ipykernel_launcher.py:41: UserWarning: Z:\\Garrett\\Livecell\\072723_50hr_20uM_TBHP\\segmentation\\WellB02_ChannelCFP_Seq0000 - Stitched_128_188_045_label.png is a low contrast image\n",
      "C:\\Users\\gases\\.conda\\envs\\livecell_GPU_segment\\lib\\site-packages\\ipykernel_launcher.py:41: UserWarning: Z:\\Garrett\\Livecell\\072723_50hr_20uM_TBHP\\segmentation\\WellB02_ChannelCFP_Seq0000 - Stitched_128_188_046_label.png is a low contrast image\n",
      "C:\\Users\\gases\\.conda\\envs\\livecell_GPU_segment\\lib\\site-packages\\ipykernel_launcher.py:41: UserWarning: Z:\\Garrett\\Livecell\\072723_50hr_20uM_TBHP\\segmentation\\WellB02_ChannelCFP_Seq0000 - Stitched_128_188_047_label.png is a low contrast image\n",
      "C:\\Users\\gases\\.conda\\envs\\livecell_GPU_segment\\lib\\site-packages\\ipykernel_launcher.py:41: UserWarning: Z:\\Garrett\\Livecell\\072723_50hr_20uM_TBHP\\segmentation\\WellB02_ChannelCFP_Seq0000 - Stitched_128_188_048_label.png is a low contrast image\n",
      "C:\\Users\\gases\\.conda\\envs\\livecell_GPU_segment\\lib\\site-packages\\ipykernel_launcher.py:41: UserWarning: Z:\\Garrett\\Livecell\\072723_50hr_20uM_TBHP\\segmentation\\WellB02_ChannelCFP_Seq0000 - Stitched_128_188_049_label.png is a low contrast image\n",
      "C:\\Users\\gases\\.conda\\envs\\livecell_GPU_segment\\lib\\site-packages\\ipykernel_launcher.py:41: UserWarning: Z:\\Garrett\\Livecell\\072723_50hr_20uM_TBHP\\segmentation\\WellB02_ChannelCFP_Seq0000 - Stitched_128_188_050_label.png is a low contrast image\n",
      "C:\\Users\\gases\\.conda\\envs\\livecell_GPU_segment\\lib\\site-packages\\ipykernel_launcher.py:41: UserWarning: Z:\\Garrett\\Livecell\\072723_50hr_20uM_TBHP\\segmentation\\WellB02_ChannelCFP_Seq0000 - Stitched_128_188_051_label.png is a low contrast image\n",
      "C:\\Users\\gases\\.conda\\envs\\livecell_GPU_segment\\lib\\site-packages\\ipykernel_launcher.py:41: UserWarning: Z:\\Garrett\\Livecell\\072723_50hr_20uM_TBHP\\segmentation\\WellB02_ChannelCFP_Seq0000 - Stitched_128_188_052_label.png is a low contrast image\n",
      "C:\\Users\\gases\\.conda\\envs\\livecell_GPU_segment\\lib\\site-packages\\ipykernel_launcher.py:41: UserWarning: Z:\\Garrett\\Livecell\\072723_50hr_20uM_TBHP\\segmentation\\WellB02_ChannelCFP_Seq0000 - Stitched_128_188_053_label.png is a low contrast image\n",
      "C:\\Users\\gases\\.conda\\envs\\livecell_GPU_segment\\lib\\site-packages\\ipykernel_launcher.py:41: UserWarning: Z:\\Garrett\\Livecell\\072723_50hr_20uM_TBHP\\segmentation\\WellB02_ChannelCFP_Seq0000 - Stitched_128_188_054_label.png is a low contrast image\n",
      "C:\\Users\\gases\\.conda\\envs\\livecell_GPU_segment\\lib\\site-packages\\ipykernel_launcher.py:41: UserWarning: Z:\\Garrett\\Livecell\\072723_50hr_20uM_TBHP\\segmentation\\WellB02_ChannelCFP_Seq0000 - Stitched_128_188_055_label.png is a low contrast image\n",
      "C:\\Users\\gases\\.conda\\envs\\livecell_GPU_segment\\lib\\site-packages\\ipykernel_launcher.py:41: UserWarning: Z:\\Garrett\\Livecell\\072723_50hr_20uM_TBHP\\segmentation\\WellB02_ChannelCFP_Seq0000 - Stitched_128_188_056_label.png is a low contrast image\n",
      "C:\\Users\\gases\\.conda\\envs\\livecell_GPU_segment\\lib\\site-packages\\ipykernel_launcher.py:41: UserWarning: Z:\\Garrett\\Livecell\\072723_50hr_20uM_TBHP\\segmentation\\WellB02_ChannelCFP_Seq0000 - Stitched_128_188_057_label.png is a low contrast image\n",
      "C:\\Users\\gases\\.conda\\envs\\livecell_GPU_segment\\lib\\site-packages\\ipykernel_launcher.py:41: UserWarning: Z:\\Garrett\\Livecell\\072723_50hr_20uM_TBHP\\segmentation\\WellB02_ChannelCFP_Seq0000 - Stitched_128_188_058_label.png is a low contrast image\n",
      "C:\\Users\\gases\\.conda\\envs\\livecell_GPU_segment\\lib\\site-packages\\ipykernel_launcher.py:41: UserWarning: Z:\\Garrett\\Livecell\\072723_50hr_20uM_TBHP\\segmentation\\WellB02_ChannelCFP_Seq0000 - Stitched_128_188_059_label.png is a low contrast image\n",
      "C:\\Users\\gases\\.conda\\envs\\livecell_GPU_segment\\lib\\site-packages\\ipykernel_launcher.py:41: UserWarning: Z:\\Garrett\\Livecell\\072723_50hr_20uM_TBHP\\segmentation\\WellB02_ChannelCFP_Seq0000 - Stitched_128_188_060_label.png is a low contrast image\n"
     ]
    }
   ],
   "source": [
    "import torch\n",
    "import numpy as np\n",
    "\n",
    "def split_into_patches(image, patch_size):\n",
    "    patches = []\n",
    "    for i in range(0, image.shape[0], patch_size):\n",
    "        for j in range(0, image.shape[1], patch_size):\n",
    "            patch = image[i:i+patch_size, j:j+patch_size]\n",
    "            patches.append(patch)\n",
    "    return patches\n",
    "\n",
    "def stitch_patches(patches, original_shape, patch_size):\n",
    "    image = np.empty(original_shape)\n",
    "    patch_idx = 0\n",
    "    for i in range(0, original_shape[0], patch_size):\n",
    "        for j in range(0, original_shape[1], patch_size):\n",
    "            image[i:i+patch_size, j:j+patch_size] = patches[patch_idx]\n",
    "            patch_idx += 1\n",
    "    return image\n",
    "\n",
    "frames_num = 61\n",
    "patch_size = 7000  # or whatever size fits in your memory - measured in pixels\n",
    "max_label = 0  # To store the maximum label ID to maintain count across patches\n",
    "for i in range(0,frames_num): \n",
    "    \n",
    "    im_frame = im[i,:,:]\n",
    "    patches = split_into_patches(im_frame, patch_size)\n",
    "    segmented_patches = []\n",
    "\n",
    "    for patch in patches:\n",
    "        labels, _, _, _ = model.eval(patch, diameter=30, channels=[0,0])\n",
    "        labels[labels > 0] += max_label  # Add max_label only to the identified nuclei\n",
    "        segmented_patches.append(labels)\n",
    "        max_label = np.max(labels)  # Update max_label for the next patch\n",
    "\n",
    "    segmented_image = stitch_patches(segmented_patches, im_frame.shape, patch_size)\n",
    "\n",
    "    save_dir = os.path.join(exp_dir,'segmentation')\n",
    "    save_file = file_name[:-4]+f'_{str(i).zfill(3)}_label.png'\n",
    "    save_path = os.path.join(save_dir,save_file)\n",
    "    imsave(save_path,segmented_image.astype('uint16')) \n",
    "\n",
    "    torch.cuda.empty_cache()\n",
    "    max_label = 0\n"
   ]
  },
  {
   "cell_type": "code",
   "execution_count": null,
   "id": "b175779b",
   "metadata": {},
   "outputs": [],
   "source": []
  }
 ],
 "metadata": {
  "kernelspec": {
   "display_name": "Python 3 (ipykernel)",
   "language": "python",
   "name": "python3"
  },
  "language_info": {
   "codemirror_mode": {
    "name": "ipython",
    "version": 3
   },
   "file_extension": ".py",
   "mimetype": "text/x-python",
   "name": "python",
   "nbconvert_exporter": "python",
   "pygments_lexer": "ipython3",
   "version": "3.7.16"
  }
 },
 "nbformat": 4,
 "nbformat_minor": 5
}

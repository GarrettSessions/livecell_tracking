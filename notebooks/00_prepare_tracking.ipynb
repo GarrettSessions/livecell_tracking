{
 "cells": [
  {
   "cell_type": "code",
   "execution_count": 1,
   "id": "f49352f4",
   "metadata": {},
   "outputs": [],
   "source": [
    "%load_ext autoreload\n",
    "%autoreload 2\n",
    "\n",
    "import os\n",
    "import sys\n",
    "import shutil\n",
    "\n",
    "sys.path.append('../libraries')\n",
    "import input_functions as inp_f"
   ]
  },
  {
   "cell_type": "markdown",
   "id": "e43bd461",
   "metadata": {},
   "source": [
    "## Define experiment"
   ]
  },
  {
   "cell_type": "code",
   "execution_count": 2,
   "id": "40d35e83",
   "metadata": {},
   "outputs": [],
   "source": [
    "info_file_path = r'Z:\\Garrett\\Livecell\\072723_50hr_20uM_TBHP\\info_B02.txt'"
   ]
  },
  {
   "cell_type": "code",
   "execution_count": 3,
   "id": "bcfa43d6",
   "metadata": {},
   "outputs": [],
   "source": [
    "# read the file\n",
    "info_file = open(info_file_path, 'r')\n",
    "info_lines = info_file.readlines()\n",
    "info_file.close()"
   ]
  },
  {
   "cell_type": "code",
   "execution_count": 4,
   "id": "6213f7d9",
   "metadata": {},
   "outputs": [],
   "source": [
    "# read info about the data frame\n",
    "exp_dir,df_name = inp_f.read_df_info(info_lines)\n",
    "\n",
    "# get info about the channels\n",
    "channel_list = inp_f.read_channels(info_lines)"
   ]
  },
  {
   "cell_type": "code",
   "execution_count": 5,
   "id": "b230e50b",
   "metadata": {},
   "outputs": [],
   "source": [
    "# list files present\n",
    "\n",
    "file_list = os.listdir(exp_dir)"
   ]
  },
  {
   "cell_type": "code",
   "execution_count": 6,
   "id": "49c15301",
   "metadata": {},
   "outputs": [],
   "source": [
    "# create all directories\n",
    "\n",
    "try:\n",
    "    os.mkdir(os.path.join(exp_dir,'data'))\n",
    "except FileExistsError:\n",
    "    pass\n",
    "\n",
    "try:\n",
    "    os.mkdir(os.path.join(exp_dir,'df'))\n",
    "except FileExistsError:\n",
    "    pass\n",
    "\n",
    "try:\n",
    "    os.mkdir(os.path.join(exp_dir,'analysis'))\n",
    "except FileExistsError:\n",
    "    pass\n",
    "\n",
    "try:\n",
    "    os.mkdir(os.path.join(exp_dir,'segmentation'))\n",
    "except FileExistsError:\n",
    "    pass"
   ]
  },
  {
   "cell_type": "code",
   "execution_count": null,
   "id": "b36ae66a",
   "metadata": {
    "scrolled": false
   },
   "outputs": [],
   "source": [
    "# move files to the data folder\n",
    "\n",
    "for im_file in file_list:\n",
    "    \n",
    "    file_path = os.path.join(exp_dir,im_file)\n",
    "    \n",
    "    if os.path.isfile(file_path):\n",
    "        \n",
    "        os.rename(file_path,os.path.join(exp_dir,'data',im_file))\n",
    "        \n",
    "# move info file\n",
    "shutil.move(info_file_path,os.path.join(exp_dir,os.path.basename(info_file_path)))"
   ]
  },
  {
   "cell_type": "code",
   "execution_count": 9,
   "id": "aa053c5c",
   "metadata": {},
   "outputs": [
    {
     "name": "stdout",
     "output_type": "stream",
     "text": [
      "All imaging files present.\n"
     ]
    }
   ],
   "source": [
    "# check that all requested files are present\n",
    "\n",
    "for ch in channel_list:\n",
    "    \n",
    "    im_path = os.path.join(exp_dir,'data',ch['file_name'])\n",
    "    \n",
    "    if os.path.isfile(im_path):\n",
    "        pass\n",
    "    else:\n",
    "        print('Missing Imaging Files')\n",
    "        break\n",
    "        \n",
    "print('All imaging files present.')"
   ]
  },
  {
   "cell_type": "code",
   "execution_count": null,
   "id": "495009c4",
   "metadata": {},
   "outputs": [],
   "source": []
  }
 ],
 "metadata": {
  "kernelspec": {
   "display_name": "Python 3 (ipykernel)",
   "language": "python",
   "name": "python3"
  },
  "language_info": {
   "codemirror_mode": {
    "name": "ipython",
    "version": 3
   },
   "file_extension": ".py",
   "mimetype": "text/x-python",
   "name": "python",
   "nbconvert_exporter": "python",
   "pygments_lexer": "ipython3",
   "version": "3.7.16"
  }
 },
 "nbformat": 4,
 "nbformat_minor": 5
}
